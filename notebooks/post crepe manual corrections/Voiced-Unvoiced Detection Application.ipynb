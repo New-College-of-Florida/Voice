{
 "cells": [
  {
   "cell_type": "code",
   "execution_count": null,
   "metadata": {},
   "outputs": [],
   "source": [
    "import numpy as np\n",
    "import os"
   ]
  },
  {
   "cell_type": "code",
   "execution_count": null,
   "metadata": {},
   "outputs": [],
   "source": [
    "target_algos = ['yin', 'maddox', 'noll', 'hermes', 'crepe', 'boersma']\n",
    "data_dir = '/Akamai/voice/data/pitches-crepe-assisted/'\n",
    "vuv_dir = '/Akamai/voice/data/pitches-raw-crepe-assisted/'\n",
    "res_dir = '/Akamai/voice/data/pitches-vuv-crepe-assisted/'"
   ]
  },
  {
   "cell_type": "code",
   "execution_count": null,
   "metadata": {},
   "outputs": [],
   "source": [
    "min_f0 = 60\n",
    "max_f0 = 2000"
   ]
  },
  {
   "cell_type": "code",
   "execution_count": null,
   "metadata": {},
   "outputs": [],
   "source": [
    "def separate(adir):\n",
    "    conv={}\n",
    "    conv[0] = lambda s: float(s.strip() or 0)\n",
    "    x,y = np.loadtxt(adir, unpack=True, usecols=(0,1), converters=conv)\n",
    "    return (x,y)\n",
    "\n",
    "def apply_detection (uy, ay):\n",
    "    uy = uy[:ay.size]\n",
    "    ay[uy == 0] = 0\n",
    "    return ay\n",
    "    \n",
    "def save_song (path, x, y):\n",
    "    fout = open(path, \"w+\")\n",
    "    for i in range(x.size):\n",
    "        fout.write(f\"{x[i]} {y[i]}\\n\")\n",
    "    fout.close()\n",
    "\n",
    "ignore_files = ['raw.txt', 'bass', 'middle', 'top']\n",
    "\n",
    "def ignore(name):\n",
    "    for suffix in ignore_files:\n",
    "        if suffix in location:\n",
    "            return True\n",
    "    return False"
   ]
  },
  {
   "cell_type": "code",
   "execution_count": null,
   "metadata": {
    "scrolled": false
   },
   "outputs": [],
   "source": [
    "def impose_unvoice(cy, ay):\n",
    "    for i in range(min(len(cy), len(ay))):\n",
    "        if cy[i] == 0:\n",
    "            ay[i] = 0.0\n",
    "    return ay"
   ]
  },
  {
   "cell_type": "code",
   "execution_count": null,
   "metadata": {
    "scrolled": false
   },
   "outputs": [],
   "source": [
    "crepe_dir = '/Akamai/voice/data/pitches-vuv-new/crepe/'\n",
    "pitches_dir = '/Akamai/voice/data/pitches-crepe-assisted/'\n",
    "res_dir = '/Akamai/voice/data/pitches-vuv-crepe-assisted'\n",
    "\n",
    "algorithms = ['boersma', 'hermes', 'noll', 'yin']\n",
    "\n",
    "for collection in os.listdir(crepe_dir):\n",
    "    for song in os.listdir(os.path.join(crepe_dir, collection)):\n",
    "        for singer in os.listdir(os.path.join(crepe_dir, collection, song)):\n",
    "            ct, cy = separate(os.path.join(crepe_dir, collection, song, singer))\n",
    "            for algo in algorithms:\n",
    "                try:\n",
    "                    at, ay = separate(os.path.join(pitches_dir, algo, collection, song, singer))\n",
    "                except OSError:\n",
    "                    print(f\"{algo}-{collection}-{song} doens't exist\")\n",
    "                    continue\n",
    "                \n",
    "                new_ay = impose_unvoice(cy, ay)\n",
    "                save_song(os.path.join(res_dir, algo, collection, song, singer), at, new_ay)"
   ]
  },
  {
   "cell_type": "code",
   "execution_count": null,
   "metadata": {},
   "outputs": [],
   "source": []
  }
 ],
 "metadata": {
  "kernelspec": {
   "display_name": "Python 3",
   "language": "python",
   "name": "python3"
  },
  "language_info": {
   "codemirror_mode": {
    "name": "ipython",
    "version": 3
   },
   "file_extension": ".py",
   "mimetype": "text/x-python",
   "name": "python",
   "nbconvert_exporter": "python",
   "pygments_lexer": "ipython3",
   "version": "3.7.6"
  }
 },
 "nbformat": 4,
 "nbformat_minor": 4
}
