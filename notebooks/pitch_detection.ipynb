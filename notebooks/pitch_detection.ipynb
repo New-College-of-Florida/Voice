{
 "cells": [
  {
   "cell_type": "markdown",
   "metadata": {},
   "source": [
    "### Multiple Fundamental Frequency Estimation by Modeling Spectral Peaks and Non-Peak Region\n",
    "\n",
    "The paper by Duan, Pardo and Zhang presents a maximum-likelihood approach to estimating multiple fundamental frequencies (F0) when there is a mixture of harmonic sources. A maximum-likelihood estimation is a method of estimating the parameters of a probability distribution (i.e. a formula for the distribution of outcomes under an expirament) by maximizing a probability function (that we will code here).\n",
    "\n",
    "To reach a reasonable probability function, we use a power spectogram of a time frame and assume the spectral peak and non-peak regions are complimentary. The peaks help find F0s that have harmonics, and the non-peak regions help avoid F0s that have harmonics.\n",
    "\n",
    "The parameters are learned from nonphonic and polyphonic training data. We are implimenting a greedy search strategy to estimate F0s one by one, to avoid the combinatorial problem of concurrent F0 estimation. It is an iterative process. It turns out that resynthesizing a harmonic sound using only peaks does little to change the human perception of the sound.\n",
    "\n",
    "### The Algorithm\n",
    "\n",
    "1).\n",
    "     For each frame of audio\n",
    "        2. find peak frequencies and amplitudes (26)\n",
    "        3. c = a finite set of frequencies within d of peak freq\n",
    "        4. 0 = 0\n",
    "        5. For N = 1 to maxPolyphony\n",
    "            6. For each F0 in C\n",
    "                   Evaluate eq.2\n",
    "               Add to 0 the F0 that maximized eq2\n",
    "           Estimate actual polyphont N with eq.18\n",
    "           Return the first B estimates ub 0 =(F01, ..., F0n)\n",
    "      For each frame of the audio\n",
    "          Refine F0 estimates using neighboring frames"
   ]
  },
  {
   "cell_type": "markdown",
   "metadata": {},
   "source": [
    "## Step 1. Find peak frequences and amplitudes\n",
    "\n",
    "### Pre-Processing\n",
    "\n",
    "An audio file needs to be normalized to a fixed root mean square energy and segmented into windows and 4-times zero padding to get a power spectogram.\n",
    "\n",
    "The energy of a signal corresponds to the total magntiude of the signal. For audio signals, that roughly corresponds to how loud the signal is. The energy in a signal is defined as\n",
    "\n",
    "\\begin{equation}\n",
    "\\sum_{n}^{\\infty}{|x(n)|^2}\n",
    "\\end{equation}\n",
    "\n",
    "We are going to find the RMSE. "
   ]
  },
  {
   "cell_type": "code",
   "execution_count": 10,
   "metadata": {},
   "outputs": [],
   "source": [
    "import librosa\n",
    "import numpy as np\n",
    "import matplotlib.pyplot as plt\n",
    "\n",
    "# sr = none, otherwise it will be a default rather than the original value\n",
    "x, sr = librosa.load('01 Mravalzhamier - Table Song, Kakheti.wav', sr=None)"
   ]
  },
  {
   "cell_type": "markdown",
   "metadata": {},
   "source": [
    "The hop length determines how much we can advance the analysis time origin from frame to frame. More overlap will give more analysis points and smoother results across time, but the computational expense is proportionately greater. "
   ]
  },
  {
   "cell_type": "code",
   "execution_count": 9,
   "metadata": {},
   "outputs": [],
   "source": [
    "hop_length = 256\n",
    "frame_length = 512"
   ]
  },
  {
   "cell_type": "code",
   "execution_count": 17,
   "metadata": {},
   "outputs": [],
   "source": [
    "# Compute the short-time energy using a list comprehension.\n",
    "# We want to find voice and unvoiced parts. The amplitude of unvoiced segments is not as high as \n",
    "# the amplitude of voice segments.\n",
    "\n",
    "energy = np.array([\n",
    "    sum(abs(x[i:i+frame_length]**2))\n",
    "    for i in range(0, len(x), hop_length)\n",
    "])"
   ]
  },
  {
   "cell_type": "markdown",
   "metadata": {},
   "source": [
    "Through the rmse feature in Librosa, we can find the root mean squares energy:\n",
    "\n",
    "** rmse is deprecated and is now just rms"
   ]
  },
  {
   "cell_type": "code",
   "execution_count": 23,
   "metadata": {},
   "outputs": [
    {
     "data": {
      "text/plain": [
       "[<matplotlib.lines.Line2D at 0x7fc9b9309c10>]"
      ]
     },
     "execution_count": 23,
     "metadata": {},
     "output_type": "execute_result"
    },
    {
     "data": {
      "image/png": "[encoded data removed]",
      "text/plain": [
       "<Figure size 432x288 with 1 Axes>"
      ]
     },
     "metadata": {
      "needs_background": "light"
     },
     "output_type": "display_data"
    }
   ],
   "source": [
    "rmse = librosa.feature.rms(x, frame_length=frame_length, hop_length=hop_length, center=True)\n",
    "rmse = rmse[0]\n",
    "\n",
    "# Plot both the energy and RMSE along with the waveform:\n",
    "\n",
    "frames = range(len(energy))\n",
    "#t = librosa.frames_to_time(frames, sr=sr, hop_length=hop_length)\n",
    "\n",
    "plt.plot(rmse)"
   ]
  },
  {
   "cell_type": "code",
   "execution_count": 1,
   "metadata": {},
   "outputs": [
    {
     "ename": "NameError",
     "evalue": "name 'plt' is not defined",
     "output_type": "error",
     "traceback": [
      "\u001b[0;31m---------------------------------------------------------------------------\u001b[0m",
      "\u001b[0;31mNameError\u001b[0m                                 Traceback (most recent call last)",
      "\u001b[0;32m<ipython-input-1-2098c44091d5>\u001b[0m in \u001b[0;36m<module>\u001b[0;34m\u001b[0m\n\u001b[0;32m----> 1\u001b[0;31m \u001b[0mplt\u001b[0m\u001b[0;34m.\u001b[0m\u001b[0mplot\u001b[0m\u001b[0;34m(\u001b[0m\u001b[0menergy\u001b[0m\u001b[0;34m)\u001b[0m\u001b[0;34m\u001b[0m\u001b[0;34m\u001b[0m\u001b[0m\n\u001b[0m",
      "\u001b[0;31mNameError\u001b[0m: name 'plt' is not defined"
     ]
    }
   ],
   "source": [
    "plt.plot(energy)"
   ]
  },
  {
   "cell_type": "code",
   "execution_count": null,
   "metadata": {},
   "outputs": [],
   "source": []
  }
 ],
 "metadata": {
  "kernelspec": {
   "display_name": "Python 3",
   "language": "python",
   "name": "python3"
  },
  "language_info": {
   "codemirror_mode": {
    "name": "ipython",
    "version": 3
   },
   "file_extension": ".py",
   "mimetype": "text/x-python",
   "name": "python",
   "nbconvert_exporter": "python",
   "pygments_lexer": "ipython3",
   "version": "3.7.6"
  }
 },
 "nbformat": 4,
 "nbformat_minor": 4
}
