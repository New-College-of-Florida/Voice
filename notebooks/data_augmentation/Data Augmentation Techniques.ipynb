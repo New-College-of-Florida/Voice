{
 "cells": [
  {
   "cell_type": "code",
   "execution_count": null,
   "metadata": {},
   "outputs": [],
   "source": [
    "import muda\n",
    "import jams\n",
    "import numpy as np\n",
    "import pandas as pd\n",
    "\n",
    "import os\n",
    "import argparse\n",
    "import csv"
   ]
  },
  {
   "cell_type": "code",
   "execution_count": null,
   "metadata": {},
   "outputs": [],
   "source": [
    "def create_jams(times, freqs, outfile):\n",
    "    track_duration = times[-1] + (times[-1] - times[-2])\n",
    "    jam = jams.JAMS()\n",
    "    jam.file_metadata.duration = track_duration\n",
    "    pitch_a = jams.Annotation(namespace='pitch_contour')\n",
    "    pitch_a.annotation_metadata.data_source = \"Tony pitch estimation + manual correction\"\n",
    "    pitch_a.annotation_metadata.annotation_tools = \"Tony\"\n",
    "\n",
    "    for t, p in zip(times, freqs):\n",
    "        if p != 0:\n",
    "            pitch_a.append(\n",
    "                time=t,\n",
    "                duration=0.0,\n",
    "                value={'index': 0, 'frequency': p, 'voiced': True},\n",
    "                confidence=1.0\n",
    "            )\n",
    "        else:\n",
    "            pitch_a.append(\n",
    "                time=t,\n",
    "                duration=0.0,\n",
    "                value={'index': 0, 'frequency': p, 'voiced': False},\n",
    "                confidence=1.0\n",
    "            )\n",
    "\n",
    "    jam.annotations.append(pitch_a)\n",
    "    jam.save(outfile)"
   ]
  },
  {
   "cell_type": "code",
   "execution_count": null,
   "metadata": {},
   "outputs": [],
   "source": [
    "pitch_file = \"/Akamai/voice/data/ground-estimate/Scherbaum Mshavanadze/GVM009/VSOAX4.txt\""
   ]
  },
  {
   "cell_type": "code",
   "execution_count": null,
   "metadata": {},
   "outputs": [],
   "source": [
    "time, freqs = "
   ]
  }
 ],
 "metadata": {
  "kernelspec": {
   "display_name": "Python 3",
   "language": "python",
   "name": "python3"
  },
  "language_info": {
   "codemirror_mode": {
    "name": "ipython",
    "version": 3
   },
   "file_extension": ".py",
   "mimetype": "text/x-python",
   "name": "python",
   "nbconvert_exporter": "python",
   "pygments_lexer": "ipython3",
   "version": "3.7.6"
  }
 },
 "nbformat": 4,
 "nbformat_minor": 4
}
