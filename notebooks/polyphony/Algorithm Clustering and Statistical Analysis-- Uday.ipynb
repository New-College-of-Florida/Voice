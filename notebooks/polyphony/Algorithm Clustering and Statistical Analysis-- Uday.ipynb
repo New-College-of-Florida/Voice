{
 "cells": [
  {
   "cell_type": "code",
   "execution_count": null,
   "metadata": {},
   "outputs": [],
   "source": [
    "import plotly.offline\n",
    "import plotly.express as px\n",
    "import plotly.io as pio\n",
    "from plotly import tools\n",
    "plotly.offline.init_notebook_mode(connected=True) \n",
    "import plotly.graph_objects as go\n",
    "from plotly.subplots import make_subplots\n",
    "import os\n",
    "from copy import deepcopy\n",
    "from plotly.offline import init_notebook_mode, iplot, plot\n",
    "import numpy as np\n",
    "import random"
   ]
  },
  {
   "cell_type": "code",
   "execution_count": null,
   "metadata": {},
   "outputs": [],
   "source": [
    "def separate(adir):\n",
    "    conv={}\n",
    "    conv[0] = lambda s: float(s.strip() or 0)\n",
    "    x,y = np.loadtxt(adir, unpack=True, usecols=(0,1), converters=conv)\n",
    "    return (x,y)"
   ]
  },
  {
   "cell_type": "code",
   "execution_count": null,
   "metadata": {},
   "outputs": [],
   "source": [
    "def graph (song, cdata, cdata_std):\n",
    "    pio.templates.default = \"plotly_dark\"\n",
    "    fig = make_subplots(rows=1, cols=1)      \n",
    "    parts = []\n",
    "    \n",
    "    # graph the pitch estimates\n",
    "    for part in cdata[song].keys():\n",
    "        v = True if '1' in part else False\n",
    "        x, y = cdata[song][part]\n",
    "        x2, y2 = cdata_std[song][part]\n",
    "        std_err = y2\n",
    "        \n",
    "        min_l = min(std_err.shape[0], y.shape[0])\n",
    "        y = y[:min_l]\n",
    "        std_err = std_err[:min_l]\n",
    "        \n",
    "        lower_y = y - std_err\n",
    "        upper_y = y + std_err\n",
    "                \n",
    "        fig.append_trace(\n",
    "            go.Scattergl(\n",
    "                x = x,\n",
    "                y = y,\n",
    "                name = f\"{song}: {part}\",\n",
    "                visible=v,\n",
    "#                 mode='markers'\n",
    "            ), 1, 1\n",
    "        )\n",
    "        \n",
    "        fig.append_trace(\n",
    "            go.Scatter(\n",
    "                x=np.concatenate((x2, x2[::-1])), # x, then x reversed\n",
    "                y=np.concatenate((upper_y, lower_y[::-1])), # upper, then lower reversed\n",
    "                fill='toself',\n",
    "                fillcolor=f'rgba({random.randint(30, 255)},{random.randint(30, 255)},{random.randint(30, 255)},0.6)',\n",
    "                line=dict(color='rgba(255,255,255,0)'),\n",
    "                hoverinfo=\"skip\",\n",
    "                visible=v,\n",
    "                name=f\"Stadard Err {part}:{song}\"\n",
    "            ), 1, 1\n",
    "        )\n",
    "\n",
    "        parts.append(part)\n",
    "        parts.append(part)\n",
    "\n",
    "    buttons = []\n",
    "    labels = ['Person 1', 'Person 2', 'Person 3']\n",
    "    for i, label in enumerate(labels):\n",
    "        visibility = [label[-1] in parts[j] for j in range(len(parts))]\n",
    "        button = dict(\n",
    "            label = label,\n",
    "            method = \"update\",\n",
    "            args = [{ 'visible': visibility}]\n",
    "        )\n",
    "\n",
    "        buttons.append(button)\n",
    "\n",
    "    updatemenus = list([\n",
    "        dict(active=0,\n",
    "            buttons=buttons,\n",
    "            direction=\"down\",\n",
    "            pad={\"r\": 10, \"t\": 10},\n",
    "            showactive=True,\n",
    "            xanchor=\"left\",\n",
    "            yanchor=\"top\",\n",
    "            x = 0.005,\n",
    "            y = 1.06,\n",
    "        )\n",
    "    ])\n",
    "   \n",
    "    fig.update_layout(\n",
    "        legend=dict(\n",
    "        orientation=\"h\",\n",
    "        yanchor=\"bottom\",\n",
    "        y=1.02,\n",
    "        xanchor=\"right\",\n",
    "        x=1\n",
    "        ),\n",
    "        margin=dict(l=0, r=0, t=100, b=0)\n",
    "    )\n",
    "    \n",
    "\n",
    "    fig.update_traces(\n",
    "        marker=dict(size=2),\n",
    "        selector=dict(mode='markers')\n",
    "    )\n",
    "    \n",
    "\n",
    "    fig['layout']['title'] = song\n",
    "    fig['layout']['width'] = 900\n",
    "    fig['layout']['height'] = 500\n",
    "    fig['layout']['showlegend'] = True\n",
    "    fig['layout']['updatemenus'] = updatemenus\n",
    "\n",
    "    iplot(fig, filename=\"dropdown\")"
   ]
  },
  {
   "cell_type": "markdown",
   "metadata": {},
   "source": [
    "### Scherbuam Mshavanadze"
   ]
  },
  {
   "cell_type": "code",
   "execution_count": null,
   "metadata": {},
   "outputs": [],
   "source": [
    "data = {\n",
    "    \"GVM009\": {},\n",
    "    \"GVM017\": {},\n",
    "    \"GVM019\": {},\n",
    "    \"GVM031\": {},\n",
    "    \"GVM097\": {}\n",
    "}\n",
    "\n",
    "data_std = {\n",
    "    \"GVM009\": {},\n",
    "    \"GVM017\": {},\n",
    "    \"GVM019\": {},\n",
    "    \"GVM031\": {},\n",
    "    \"GVM097\": {}\n",
    "}\n",
    "data_dir = \"/Akamai/voice/data/ground-estimate/Scherbaum Mshavanadze/\"\n",
    "std_dir = \"/Akamai/voice/data/statistics/standard-deviation/Scherbaum Mshavanadze/\"\n",
    "\n",
    "for collection in sorted(os.listdir(data_dir)):\n",
    "    for song in sorted(os.listdir(f\"{data_dir}{collection}\")):\n",
    "        data[collection][song] = separate(f\"{data_dir}{collection}/{song}\")\n",
    "        data_std[collection][song] = separate(f\"{std_dir}{collection}/{song}\")"
   ]
  },
  {
   "cell_type": "code",
   "execution_count": null,
   "metadata": {},
   "outputs": [],
   "source": [
    "graph(\"GVM009\", data, data_std)"
   ]
  },
  {
   "cell_type": "code",
   "execution_count": null,
   "metadata": {},
   "outputs": [],
   "source": [
    "graph('GVM017', data, data_std)"
   ]
  },
  {
   "cell_type": "code",
   "execution_count": null,
   "metadata": {},
   "outputs": [],
   "source": [
    "graph('GVM019', data, data_std)"
   ]
  },
  {
   "cell_type": "code",
   "execution_count": null,
   "metadata": {},
   "outputs": [],
   "source": [
    "graph('GVM031', data, data_std)"
   ]
  },
  {
   "cell_type": "code",
   "execution_count": null,
   "metadata": {},
   "outputs": [],
   "source": [
    "graph('GVM097', data, data_std)"
   ]
  },
  {
   "cell_type": "markdown",
   "metadata": {},
   "source": [
    "### Teach Yourself Megrelian Songs"
   ]
  },
  {
   "cell_type": "code",
   "execution_count": null,
   "metadata": {},
   "outputs": [],
   "source": [
    "data2 = {\n",
    "    \"Ak'a Si Rekisho\": {},\n",
    "   \"Gepshvat Ghvini\": {}, \n",
    "   \"Io _ Chkin Kiana\": {}, \n",
    "   \"Mesishi Vardi\": {},\n",
    "   \"Meureme\": {}, \n",
    "   \"Mi Re Sotsodali_\": {},\n",
    "   \"Mole Chit'i Gilakhe\": {},\n",
    "   \"O Da\": {}, \n",
    "   \"Vojanudi Chkim Jargvals\": {}\n",
    "}\n",
    "\n",
    "data2_std = {\n",
    "    \"Ak'a Si Rekisho\": {},\n",
    "   \"Gepshvat Ghvini\": {}, \n",
    "   \"Io _ Chkin Kiana\": {}, \n",
    "   \"Mesishi Vardi\": {},\n",
    "   \"Meureme\": {}, \n",
    "   \"Mi Re Sotsodali_\": {},\n",
    "   \"Mole Chit'i Gilakhe\": {},\n",
    "   \"O Da\": {}, \n",
    "   \"Vojanudi Chkim Jargvals\": {}\n",
    "}\n",
    "\n",
    "\n",
    "\n",
    "data_dir = \"/Akamai/voice/data/ground-estimate/Teach Yourself Megrelian Songs/\"\n",
    "std_dir = \"/Akamai/voice/data/statistics/standard-deviation/Teach Yourself Megrelian Songs/\"\n",
    "\n",
    "for collection in sorted(os.listdir(data_dir)):\n",
    "    for song in sorted(os.listdir(f\"{data_dir}{collection}\")):\n",
    "        data2[collection][song] = separate(f\"{data_dir}{collection}/{song}\")\n",
    "        data2_std[collection][song] = separate(f\"{std_dir}{collection}/{song}\")"
   ]
  },
  {
   "cell_type": "code",
   "execution_count": null,
   "metadata": {},
   "outputs": [],
   "source": [
    "graph(\"Ak'a Si Rekisho\", data2, data2_std)"
   ]
  },
  {
   "cell_type": "code",
   "execution_count": null,
   "metadata": {},
   "outputs": [],
   "source": [
    "graph(\"Gepshvat Ghvini\", data2, data2_std)"
   ]
  },
  {
   "cell_type": "code",
   "execution_count": null,
   "metadata": {},
   "outputs": [],
   "source": [
    "graph(\"Io _ Chkin Kiana\", data2, data2_std)"
   ]
  },
  {
   "cell_type": "code",
   "execution_count": null,
   "metadata": {},
   "outputs": [],
   "source": [
    "graph(\"Mesishi Vardi\", data2, data2_std)"
   ]
  },
  {
   "cell_type": "code",
   "execution_count": null,
   "metadata": {},
   "outputs": [],
   "source": [
    "graph(\"Meureme\", data2, data2_std)"
   ]
  },
  {
   "cell_type": "code",
   "execution_count": null,
   "metadata": {},
   "outputs": [],
   "source": [
    "graph(\"Mi Re Sotsodali_\", data2, data2_std)"
   ]
  },
  {
   "cell_type": "code",
   "execution_count": null,
   "metadata": {},
   "outputs": [],
   "source": [
    "graph(\"Mole Chit'i Gilakhe\", data2, data2_std)"
   ]
  },
  {
   "cell_type": "code",
   "execution_count": null,
   "metadata": {},
   "outputs": [],
   "source": [
    "graph(\"O Da\", data2, data2_std)"
   ]
  },
  {
   "cell_type": "code",
   "execution_count": null,
   "metadata": {},
   "outputs": [],
   "source": [
    "graph(\"Vojanudi Chkim Jargvals\", data2, data2_std)"
   ]
  },
  {
   "cell_type": "markdown",
   "metadata": {},
   "source": [
    "### Teach Yourself Gurian Songs"
   ]
  },
  {
   "cell_type": "code",
   "execution_count": null,
   "metadata": {},
   "outputs": [],
   "source": [
    "data3 = {\n",
    "    \"Adila-Alipasha\": {},\n",
    "    \"Indi-Mindi\": {},\n",
    "    'Mival Guriashi (1)': {} ,\n",
    "    'Pikris Simghera': {},\n",
    "    \"Alaverdi\": {},\n",
    "    \"K'alos Khelkhvavi\": {},\n",
    "    'Mival Guriashi (2)': {} , \n",
    "    \"Sabodisho\": {},\n",
    "    \"Khasanbegura\": {},     \n",
    "    \"Mok'le Mravalzhamieri\": {},\n",
    "    'Sadats Vshobilvar': {},\n",
    "    \"Beri Ak'vans Epareba\": {}, \n",
    "    \"Lat'aris Simghera\": {},    \n",
    "    \"Mts'vanesa Da Ukudosa\": {}, \n",
    "    \"Shermanduli\": {},\n",
    "    \"Brevalo\": {},             \n",
    "    \"Manana\": {},         \n",
    "    'Nanina (1)': {},      \n",
    "    \"Shvidk'atsa\": {},\n",
    "    \"Chven-Mshvidoba\": {},    \n",
    "    \"Maq'ruli\": {},               \n",
    "    'Nanina (2)': {},          \n",
    "    'Supris Khelkhvavi': {},\n",
    "    'Didi Khnidan': {},     \n",
    "    \"Masp'indzelsa Mkhiarulsa\": {}, \n",
    "    \"Orira\": {},                \n",
    "    \"Ts'amok'ruli\": {},\n",
    "    \"Gakhsovs, T'urpa\": {},\n",
    "    \"Me-Rustveli\": {},        \n",
    "    \"P'at'ara Saq'varelo\": {}\n",
    "}\n",
    "\n",
    "data3_std = {\n",
    "    \"Adila-Alipasha\": {},\n",
    "    \"Indi-Mindi\": {},\n",
    "    'Mival Guriashi (1)': {} ,\n",
    "    'Pikris Simghera': {},\n",
    "    \"Alaverdi\": {},\n",
    "    \"K'alos Khelkhvavi\": {},\n",
    "    'Mival Guriashi (2)': {} , \n",
    "    \"Sabodisho\": {},\n",
    "    \"Khasanbegura\": {},     \n",
    "    \"Mok'le Mravalzhamieri\": {},\n",
    "    'Sadats Vshobilvar': {},\n",
    "    \"Beri Ak'vans Epareba\": {}, \n",
    "    \"Lat'aris Simghera\": {},    \n",
    "    \"Mts'vanesa Da Ukudosa\": {}, \n",
    "    \"Shermanduli\": {},\n",
    "    \"Brevalo\": {},             \n",
    "    \"Manana\": {},         \n",
    "    'Nanina (1)': {},      \n",
    "    \"Shvidk'atsa\": {},\n",
    "    \"Chven-Mshvidoba\": {},    \n",
    "    \"Maq'ruli\": {},               \n",
    "    'Nanina (2)': {},          \n",
    "    'Supris Khelkhvavi': {},\n",
    "    'Didi Khnidan': {},     \n",
    "    \"Masp'indzelsa Mkhiarulsa\": {}, \n",
    "    \"Orira\": {},                \n",
    "    \"Ts'amok'ruli\": {},\n",
    "    \"Gakhsovs, T'urpa\": {},\n",
    "    \"Me-Rustveli\": {},        \n",
    "    \"P'at'ara Saq'varelo\": {}\n",
    "}\n",
    "\n",
    "\n",
    "def separate(adir):\n",
    "    conv={}\n",
    "    conv[0] = lambda s: float(s.strip() or 0)\n",
    "    x,y = np.loadtxt(adir, unpack=True, usecols=(0,1), converters=conv)\n",
    "    return (x,y)\n",
    "\n",
    "data_dir = \"/Akamai/voice/data/ground-estimate/Teach Yourself Gurian Songs/\"\n",
    "std_dir = \"/Akamai/voice/data/statistics/standard-deviation/Teach Yourself Gurian Songs/\"\n",
    "\n",
    "\n",
    "for collection in sorted(os.listdir(data_dir)):\n",
    "    for song in sorted(os.listdir(f\"{data_dir}{collection}\")):\n",
    "        data3[collection][song] = separate(f\"{data_dir}{collection}/{song}\")\n",
    "        data3_std[collection][song] = separate(f\"{std_dir}{collection}/{song}\")"
   ]
  },
  {
   "cell_type": "code",
   "execution_count": null,
   "metadata": {},
   "outputs": [],
   "source": [
    "graph(\"Adila-Alipasha\", data3, data3_std)"
   ]
  },
  {
   "cell_type": "code",
   "execution_count": null,
   "metadata": {
    "scrolled": false
   },
   "outputs": [],
   "source": [
    "graph(\"Indi-Mindi\", data3, data3_std)"
   ]
  },
  {
   "cell_type": "code",
   "execution_count": null,
   "metadata": {},
   "outputs": [],
   "source": [
    "graph('Mival Guriashi (1)', data3, data3_std )"
   ]
  },
  {
   "cell_type": "code",
   "execution_count": null,
   "metadata": {},
   "outputs": [],
   "source": [
    "graph('Pikris Simghera', data3, data3_std)"
   ]
  },
  {
   "cell_type": "code",
   "execution_count": null,
   "metadata": {},
   "outputs": [],
   "source": [
    "graph(\"Alaverdi\", data3, data3_std)"
   ]
  },
  {
   "cell_type": "code",
   "execution_count": null,
   "metadata": {},
   "outputs": [],
   "source": [
    "graph(\"K'alos Khelkhvavi\", data3, data3_std)"
   ]
  },
  {
   "cell_type": "code",
   "execution_count": null,
   "metadata": {},
   "outputs": [],
   "source": [
    "graph('Mival Guriashi (2)' , data3, data3_std)"
   ]
  },
  {
   "cell_type": "code",
   "execution_count": null,
   "metadata": {},
   "outputs": [],
   "source": [
    "graph(\"Sabodisho\", data3, data3_std)"
   ]
  },
  {
   "cell_type": "code",
   "execution_count": null,
   "metadata": {},
   "outputs": [],
   "source": [
    "graph(\"Khasanbegura\", data3, data3_std)"
   ]
  },
  {
   "cell_type": "code",
   "execution_count": null,
   "metadata": {},
   "outputs": [],
   "source": [
    "graph(\"Mok'le Mravalzhamieri\", data3, data3_std)"
   ]
  },
  {
   "cell_type": "code",
   "execution_count": null,
   "metadata": {},
   "outputs": [],
   "source": [
    "graph('Sadats Vshobilvar', data3, data3_std)"
   ]
  },
  {
   "cell_type": "code",
   "execution_count": null,
   "metadata": {},
   "outputs": [],
   "source": [
    "graph(\"Beri Ak'vans Epareba\", data3, data3_std)"
   ]
  },
  {
   "cell_type": "code",
   "execution_count": null,
   "metadata": {},
   "outputs": [],
   "source": [
    "graph(\"Lat'aris Simghera\", data3, data3_std)"
   ]
  },
  {
   "cell_type": "code",
   "execution_count": null,
   "metadata": {},
   "outputs": [],
   "source": [
    "graph(\"Mts'vanesa Da Ukudosa\", data3, data3_std)"
   ]
  },
  {
   "cell_type": "code",
   "execution_count": null,
   "metadata": {},
   "outputs": [],
   "source": [
    "graph(\"Shermanduli\", data3, data3_std)"
   ]
  },
  {
   "cell_type": "code",
   "execution_count": null,
   "metadata": {},
   "outputs": [],
   "source": [
    "graph(\"Brevalo\", data3, data3_std)"
   ]
  },
  {
   "cell_type": "code",
   "execution_count": null,
   "metadata": {},
   "outputs": [],
   "source": [
    "graph(\"Manana\", data3, data3_std)"
   ]
  },
  {
   "cell_type": "code",
   "execution_count": null,
   "metadata": {},
   "outputs": [],
   "source": [
    "graph('Nanina (1)', data3, data3_std)"
   ]
  },
  {
   "cell_type": "code",
   "execution_count": null,
   "metadata": {},
   "outputs": [],
   "source": [
    "graph(\"Shvidk'atsa\", data3, data3_std)"
   ]
  },
  {
   "cell_type": "code",
   "execution_count": null,
   "metadata": {},
   "outputs": [],
   "source": [
    "graph(\"Chven-Mshvidoba\", data3, data3_std)"
   ]
  },
  {
   "cell_type": "code",
   "execution_count": null,
   "metadata": {},
   "outputs": [],
   "source": [
    "graph(\"Maq'ruli\", data3, data3_std)"
   ]
  },
  {
   "cell_type": "code",
   "execution_count": null,
   "metadata": {},
   "outputs": [],
   "source": [
    "graph('Nanina (2)', data3, data3_std)"
   ]
  },
  {
   "cell_type": "code",
   "execution_count": null,
   "metadata": {},
   "outputs": [],
   "source": [
    "graph('Supris Khelkhvavi', data3, data3_std)"
   ]
  },
  {
   "cell_type": "code",
   "execution_count": null,
   "metadata": {},
   "outputs": [],
   "source": [
    "graph('Didi Khnidan', data3, data3_std)"
   ]
  },
  {
   "cell_type": "code",
   "execution_count": null,
   "metadata": {},
   "outputs": [],
   "source": [
    "graph(\"Masp'indzelsa Mkhiarulsa\", data3, data3_std)"
   ]
  },
  {
   "cell_type": "code",
   "execution_count": null,
   "metadata": {},
   "outputs": [],
   "source": [
    "graph(\"Orira\", data3, data3_std)"
   ]
  },
  {
   "cell_type": "code",
   "execution_count": null,
   "metadata": {},
   "outputs": [],
   "source": [
    "graph(\"Ts'amok'ruli\", data3, data3_std)"
   ]
  },
  {
   "cell_type": "code",
   "execution_count": null,
   "metadata": {},
   "outputs": [],
   "source": [
    "graph(\"Gakhsovs, T'urpa\", data3, data3_std)"
   ]
  },
  {
   "cell_type": "code",
   "execution_count": null,
   "metadata": {},
   "outputs": [],
   "source": [
    "graph(\"Me-Rustveli\", data3, data3_std)"
   ]
  },
  {
   "cell_type": "code",
   "execution_count": null,
   "metadata": {},
   "outputs": [],
   "source": [
    "graph(\"P'at'ara Saq'varelo\", data3, data3_std)"
   ]
  }
 ],
 "metadata": {
  "kernelspec": {
   "display_name": "Python 3",
   "language": "python",
   "name": "python3"
  },
  "language_info": {
   "codemirror_mode": {
    "name": "ipython",
    "version": 3
   },
   "file_extension": ".py",
   "mimetype": "text/x-python",
   "name": "python",
   "nbconvert_exporter": "python",
   "pygments_lexer": "ipython3",
   "version": "3.7.6"
  }
 },
 "nbformat": 4,
 "nbformat_minor": 4
}
