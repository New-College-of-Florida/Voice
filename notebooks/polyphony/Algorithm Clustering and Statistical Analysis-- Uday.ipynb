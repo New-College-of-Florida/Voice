{
 "cells": [
  {
   "cell_type": "code",
   "execution_count": null,
   "metadata": {},
   "outputs": [],
   "source": [
    "import plotly.offline\n",
    "import plotly.express as px\n",
    "import plotly.io as pio\n",
    "from plotly import tools\n",
    "plotly.offline.init_notebook_mode(connected=True) \n",
    "import plotly.graph_objects as go\n",
    "from plotly.subplots import make_subplots\n",
    "import os\n",
    "from copy import deepcopy\n",
    "from plotly.offline import init_notebook_mode, iplot, plot\n",
    "import numpy as np\n",
    "import random"
   ]
  },
  {
   "cell_type": "markdown",
   "metadata": {},
   "source": [
    "### Scherbuam Mshavanadze"
   ]
  },
  {
   "cell_type": "code",
   "execution_count": null,
   "metadata": {},
   "outputs": [],
   "source": [
    "data = {\n",
    "    \"GVM009\": {},\n",
    "    \"GVM017\": {},\n",
    "    \"GVM019\": {},\n",
    "    \"GVM031\": {},\n",
    "    \"GVM097\": {}\n",
    "}\n",
    "\n",
    "data_std = {\n",
    "    \"GVM009\": {},\n",
    "    \"GVM017\": {},\n",
    "    \"GVM019\": {},\n",
    "    \"GVM031\": {},\n",
    "    \"GVM097\": {}\n",
    "}\n",
    "\n",
    "def separate(adir):\n",
    "    conv={}\n",
    "    conv[0] = lambda s: float(s.strip() or 0)\n",
    "    x,y = np.loadtxt(adir, unpack=True, usecols=(0,1), converters=conv)\n",
    "    return (x,y)\n",
    "\n",
    "data_dir = \"/Akamai/voice/data/ground-estimate/Scherbaum Mshavanadze/\"\n",
    "std_dir = \"/Akamai/voice/data/statistics/standard-deviation/Scherbaum Mshavanadze/\"\n",
    "\n",
    "for collection in sorted(os.listdir(data_dir)):\n",
    "    for song in sorted(os.listdir(f\"{data_dir}{collection}\")):\n",
    "        data[collection][song] = separate(f\"{data_dir}{collection}/{song}\")\n",
    "        data_std[collection][song] = separate(f\"{std_dir}{collection}/{song}\")\n",
    "\n",
    "def graph (song):\n",
    "    pio.templates.default = \"plotly_dark\"\n",
    "    fig = make_subplots(rows=1, cols=1)      \n",
    "    parts = []\n",
    "    \n",
    "    # graph the pitch estimates\n",
    "    for part in data[song].keys():\n",
    "        v = True if '1' in part else False\n",
    "        x, y = data[song][part]\n",
    "        x2, y2 = data_std[song][part]\n",
    "        std_err = y2/np.sqrt(5) \n",
    "        lower_y = y - std_err\n",
    "        upper_y = y + std_err\n",
    "        \n",
    "#         for i in range(y.size):\n",
    "#             if y[i] < 1:\n",
    "#                 y[i] = None\n",
    "                \n",
    "        fig.append_trace(\n",
    "            go.Scattergl(\n",
    "                x = x,\n",
    "                y = y,\n",
    "                name = f\"{song}: {part}\",\n",
    "                visible=v,\n",
    "#                 mode='markers'\n",
    "            ), 1, 1\n",
    "        )\n",
    "        \n",
    "        fig.append_trace(\n",
    "            go.Scatter(\n",
    "                x=np.concatenate((x, x[::-1])), # x, then x reversed\n",
    "                y=np.concatenate((upper_y, lower_y[::-1])), # upper, then lower reversed\n",
    "                fill='toself',\n",
    "                fillcolor=f'rgba({random.randint(30, 255)},{random.randint(30, 255)},{random.randint(30, 255)},0.6)',\n",
    "                line=dict(color='rgba(255,255,255,0)'),\n",
    "                hoverinfo=\"skip\",\n",
    "                visible=v,\n",
    "                name=f\"Stadard Err {part}:{song}\"\n",
    "            ), 1, 1\n",
    "        )\n",
    "\n",
    "        parts.append(part)\n",
    "        parts.append(part)\n",
    "\n",
    "    buttons = []\n",
    "    labels = ['Person 1', 'Person 2', 'Person 3']\n",
    "    for i, label in enumerate(labels):\n",
    "        visibility = [label[-1] in parts[j] for j in range(len(parts))]\n",
    "        button = dict(\n",
    "            label = label,\n",
    "            method = \"update\",\n",
    "            args = [{ 'visible': visibility}]\n",
    "        )\n",
    "\n",
    "        buttons.append(button)\n",
    "\n",
    "    updatemenus = list([\n",
    "        dict(active=0,\n",
    "            buttons=buttons,\n",
    "            direction=\"down\",\n",
    "            pad={\"r\": 10, \"t\": 10},\n",
    "            showactive=True,\n",
    "            xanchor=\"left\",\n",
    "            yanchor=\"top\",\n",
    "            x = 0.005,\n",
    "            y = 1.06,\n",
    "        )\n",
    "    ])\n",
    "   \n",
    "    fig.update_layout(\n",
    "        legend=dict(\n",
    "        orientation=\"h\",\n",
    "        yanchor=\"bottom\",\n",
    "        y=1.02,\n",
    "        xanchor=\"right\",\n",
    "        x=1\n",
    "        ),\n",
    "        margin=dict(l=0, r=0, t=100, b=0)\n",
    "    )\n",
    "    \n",
    "\n",
    "    fig.update_traces(\n",
    "        marker=dict(size=2),\n",
    "        selector=dict(mode='markers')\n",
    "    )\n",
    "    \n",
    "\n",
    "    fig['layout']['title'] = song\n",
    "    fig['layout']['width'] = 900\n",
    "    fig['layout']['height'] = 500\n",
    "    fig['layout']['showlegend'] = True\n",
    "    fig['layout']['updatemenus'] = updatemenus\n",
    "\n",
    "    iplot(fig, filename=\"dropdown\")"
   ]
  },
  {
   "cell_type": "code",
   "execution_count": null,
   "metadata": {},
   "outputs": [],
   "source": [
    "graph(\"GVM009\")"
   ]
  },
  {
   "cell_type": "code",
   "execution_count": null,
   "metadata": {},
   "outputs": [],
   "source": [
    "graph('GVM017')"
   ]
  },
  {
   "cell_type": "code",
   "execution_count": null,
   "metadata": {},
   "outputs": [],
   "source": [
    "graph('GVM019')"
   ]
  },
  {
   "cell_type": "code",
   "execution_count": null,
   "metadata": {},
   "outputs": [],
   "source": [
    "graph('GVM031')"
   ]
  },
  {
   "cell_type": "code",
   "execution_count": null,
   "metadata": {},
   "outputs": [],
   "source": [
    "graph('GVM097')"
   ]
  },
  {
   "cell_type": "markdown",
   "metadata": {},
   "source": [
    "### Teach Yourself Megrelian Songs"
   ]
  },
  {
   "cell_type": "code",
   "execution_count": null,
   "metadata": {},
   "outputs": [],
   "source": [
    "data2 = {\n",
    "    \"Ak'a Si Rekisho\": {},\n",
    "   \"Gepshvat Ghvini\": {}, \n",
    "   \"Io _ Chkin Kiana\": {}, \n",
    "   \"Mesishi Vardi\": {},\n",
    "   \"Meureme\": {}, \n",
    "   \"Mi Re Sotsodali_\": {},\n",
    "   \"Mole Chit'i Gilakhe\": {},\n",
    "   \"O Da\": {}, \n",
    "   \"Vojanudi Chkim Jargvals\": {}\n",
    "}\n",
    "\n",
    "data2_std = {\n",
    "    \"Ak'a Si Rekisho\": {},\n",
    "   \"Gepshvat Ghvini\": {}, \n",
    "   \"Io _ Chkin Kiana\": {}, \n",
    "   \"Mesishi Vardi\": {},\n",
    "   \"Meureme\": {}, \n",
    "   \"Mi Re Sotsodali_\": {},\n",
    "   \"Mole Chit'i Gilakhe\": {},\n",
    "   \"O Da\": {}, \n",
    "   \"Vojanudi Chkim Jargvals\": {}\n",
    "}\n",
    "\n",
    "def separate(adir):\n",
    "    conv={}\n",
    "    conv[0] = lambda s: float(s.strip() or 0)\n",
    "    x,y = np.loadtxt(adir, unpack=True, usecols=(0,1), converters=conv)\n",
    "    return (x,y)\n",
    "\n",
    "data_dir = \"/Akamai/voice/data/ground-estimate/Teach Yourself Megrelian Songs/\"\n",
    "std_dir = \"/Akamai/voice/data/statistics/standard-deviation/Teach Yourself Megrelian Songs/\"\n",
    "\n",
    "for collection in sorted(os.listdir(data_dir)):\n",
    "    for song in sorted(os.listdir(f\"{data_dir}{collection}\")):\n",
    "        data2[collection][song] = separate(f\"{data_dir}{collection}/{song}\")\n",
    "        data2_std[collection][song] = separate(f\"{std_dir}{collection}/{song}\")\n",
    "\n",
    "def graph2 (song):\n",
    "    pio.templates.default = \"plotly_dark\"\n",
    "    fig = make_subplots(rows=1, cols=1)      \n",
    "    parts = []\n",
    "    for part in data2[song].keys():\n",
    "        v = True if '1' in part else False\n",
    "        x, y = data2[song][part]\n",
    "        x2, y2 = data2_std[song][part]\n",
    "        std_err = y2/np.sqrt(5) \n",
    "        lower_y = y - std_err\n",
    "        upper_y = y + std_err\n",
    "        \n",
    "#         for i in range(y.size):\n",
    "#             if y[i] < 1:\n",
    "#                 y[i] = None\n",
    "                \n",
    "        fig.append_trace(\n",
    "            go.Scattergl(\n",
    "                x = x,\n",
    "                y = y,\n",
    "                name = f\"{song}: {part}\",\n",
    "                visible=v,\n",
    "#                 mode='markers'\n",
    "            ), 1, 1\n",
    "        )\n",
    "        \n",
    "        fig.append_trace(\n",
    "            go.Scatter(\n",
    "                x=np.concatenate((x, x[::-1])), # x, then x reversed\n",
    "                y=np.concatenate((upper_y, lower_y[::-1])), # upper, then lower reversed\n",
    "                fill='toself',\n",
    "                fillcolor=f'rgba({random.randint(30, 255)},{random.randint(30, 255)},{random.randint(30, 255)},0.6)',\n",
    "                line=dict(color='rgba(255,255,255,0)'),\n",
    "                hoverinfo=\"skip\",\n",
    "                visible=v,\n",
    "                name=f\"Stadard Err {part}:{song}\"\n",
    "            ), 1, 1\n",
    "        )\n",
    "        \n",
    "        parts.append(part)\n",
    "        parts.append(part)\n",
    "            \n",
    "\n",
    "    buttons = []\n",
    "    labels = ['Person 1', 'Person 2', 'Person 3']\n",
    "    for i, label in enumerate(labels):\n",
    "        visibility = [label[-1] in parts[j] for j in range(len(parts))]\n",
    "        button = dict(\n",
    "            label = label,\n",
    "            method = \"update\",\n",
    "            args = [{ 'visible': visibility}]\n",
    "        )\n",
    "\n",
    "        buttons.append(button)\n",
    "\n",
    "    updatemenus = list([\n",
    "        dict(active=0,\n",
    "            buttons=buttons,\n",
    "            direction=\"down\",\n",
    "            pad={\"r\": 10, \"t\": 10},\n",
    "            showactive=True,\n",
    "            xanchor=\"left\",\n",
    "            yanchor=\"top\",\n",
    "            x = 0.005,\n",
    "            y = 1.06,\n",
    "        )\n",
    "    ])\n",
    "   \n",
    "    fig.update_layout(\n",
    "        legend=dict(\n",
    "        orientation=\"h\",\n",
    "        yanchor=\"bottom\",\n",
    "        y=1.02,\n",
    "        xanchor=\"right\",\n",
    "        x=1\n",
    "        ),\n",
    "        margin=dict(l=0, r=0, t=100, b=50)\n",
    "    )\n",
    "    \n",
    "\n",
    "    fig.update_traces(\n",
    "        marker=dict(size=2),\n",
    "        selector=dict(mode='markers')\n",
    "    )\n",
    "    \n",
    "\n",
    "    fig['layout']['title'] = song\n",
    "    fig['layout']['width'] = 900\n",
    "    fig['layout']['height'] = 500\n",
    "    fig['layout']['showlegend'] = True\n",
    "    fig['layout']['updatemenus'] = updatemenus\n",
    "\n",
    "    iplot(fig, filename=\"dropdown\")"
   ]
  },
  {
   "cell_type": "code",
   "execution_count": null,
   "metadata": {},
   "outputs": [],
   "source": [
    "graph2(\"Ak'a Si Rekisho\")"
   ]
  },
  {
   "cell_type": "code",
   "execution_count": null,
   "metadata": {},
   "outputs": [],
   "source": [
    "graph2(\"Gepshvat Ghvini\")"
   ]
  },
  {
   "cell_type": "code",
   "execution_count": null,
   "metadata": {},
   "outputs": [],
   "source": [
    "graph2(\"Io _ Chkin Kiana\")"
   ]
  },
  {
   "cell_type": "code",
   "execution_count": null,
   "metadata": {},
   "outputs": [],
   "source": [
    "graph2(\"Mesishi Vardi\")"
   ]
  },
  {
   "cell_type": "code",
   "execution_count": null,
   "metadata": {},
   "outputs": [],
   "source": [
    "graph2(\"Meureme\")"
   ]
  },
  {
   "cell_type": "code",
   "execution_count": null,
   "metadata": {},
   "outputs": [],
   "source": [
    "graph2(\"Mi Re Sotsodali_\")"
   ]
  },
  {
   "cell_type": "code",
   "execution_count": null,
   "metadata": {},
   "outputs": [],
   "source": [
    "graph2(\"Mole Chit'i Gilakhe\")"
   ]
  },
  {
   "cell_type": "code",
   "execution_count": null,
   "metadata": {},
   "outputs": [],
   "source": [
    "graph2(\"O Da\")"
   ]
  },
  {
   "cell_type": "code",
   "execution_count": null,
   "metadata": {},
   "outputs": [],
   "source": [
    "graph2(\"Vojanudi Chkim Jargvals\")"
   ]
  },
  {
   "cell_type": "markdown",
   "metadata": {},
   "source": [
    "### Teach Yourself Gurian Songs"
   ]
  },
  {
   "cell_type": "code",
   "execution_count": null,
   "metadata": {},
   "outputs": [],
   "source": [
    "data3 = {\n",
    "    \"Adila-Alipasha\": {},\n",
    "    \"Indi-Mindi\": {},\n",
    "    'Mival Guriashi (1)': {} ,\n",
    "    'Pikris Simghera': {},\n",
    "    \"Alaverdi\": {},\n",
    "    \"K'alos Khelkhvavi\": {},\n",
    "    'Mival Guriashi (2)': {} , \n",
    "    \"Sabodisho\": {},\n",
    "    \"Khasanbegura\": {},     \n",
    "    \"Mok'le Mravalzhamieri\": {},\n",
    "    'Sadats Vshobilvar': {},\n",
    "    \"Beri Ak'vans Epareba\": {}, \n",
    "    \"Lat'aris Simghera\": {},    \n",
    "    \"Mts'vanesa Da Ukudosa\": {}, \n",
    "    \"Shermanduli\": {},\n",
    "    \"Brevalo\": {},             \n",
    "    \"Manana\": {},         \n",
    "    'Nanina (1)': {},      \n",
    "    \"Shvidk'atsa\": {},\n",
    "    \"Chven-Mshvidoba\": {},    \n",
    "    \"Maq'ruli\": {},               \n",
    "    'Nanina (2)': {},          \n",
    "    'Supris Khelkhvavi': {},\n",
    "    'Didi Khnidan': {},     \n",
    "    \"Masp'indzelsa Mkhiarulsa\": {}, \n",
    "    \"Orira\": {},                \n",
    "    \"Ts'amok'ruli\": {},\n",
    "    \"Gakhsovs, T'urpa\": {},\n",
    "    \"Me-Rustveli\": {},        \n",
    "    \"P'at'ara Saq'varelo\": {}\n",
    "}\n",
    "\n",
    "data3_std = {\n",
    "    \"Adila-Alipasha\": {},\n",
    "    \"Indi-Mindi\": {},\n",
    "    'Mival Guriashi (1)': {} ,\n",
    "    'Pikris Simghera': {},\n",
    "    \"Alaverdi\": {},\n",
    "    \"K'alos Khelkhvavi\": {},\n",
    "    'Mival Guriashi (2)': {} , \n",
    "    \"Sabodisho\": {},\n",
    "    \"Khasanbegura\": {},     \n",
    "    \"Mok'le Mravalzhamieri\": {},\n",
    "    'Sadats Vshobilvar': {},\n",
    "    \"Beri Ak'vans Epareba\": {}, \n",
    "    \"Lat'aris Simghera\": {},    \n",
    "    \"Mts'vanesa Da Ukudosa\": {}, \n",
    "    \"Shermanduli\": {},\n",
    "    \"Brevalo\": {},             \n",
    "    \"Manana\": {},         \n",
    "    'Nanina (1)': {},      \n",
    "    \"Shvidk'atsa\": {},\n",
    "    \"Chven-Mshvidoba\": {},    \n",
    "    \"Maq'ruli\": {},               \n",
    "    'Nanina (2)': {},          \n",
    "    'Supris Khelkhvavi': {},\n",
    "    'Didi Khnidan': {},     \n",
    "    \"Masp'indzelsa Mkhiarulsa\": {}, \n",
    "    \"Orira\": {},                \n",
    "    \"Ts'amok'ruli\": {},\n",
    "    \"Gakhsovs, T'urpa\": {},\n",
    "    \"Me-Rustveli\": {},        \n",
    "    \"P'at'ara Saq'varelo\": {}\n",
    "}\n",
    "\n",
    "\n",
    "def separate(adir):\n",
    "    conv={}\n",
    "    conv[0] = lambda s: float(s.strip() or 0)\n",
    "    x,y = np.loadtxt(adir, unpack=True, usecols=(0,1), converters=conv)\n",
    "    return (x,y)\n",
    "\n",
    "data_dir = \"/Akamai/voice/data/ground-estimate/Teach Yourself Gurian Songs/\"\n",
    "std_dir = \"/Akamai/voice/data/statistics/standard-deviation/Teach Yourself Gurian Songs/\"\n",
    "\n",
    "\n",
    "for collection in sorted(os.listdir(data_dir)):\n",
    "    for song in sorted(os.listdir(f\"{data_dir}{collection}\")):\n",
    "        data3[collection][song] = separate(f\"{data_dir}{collection}/{song}\")\n",
    "        data3_std[collection][song] = separate(f\"{std_dir}{collection}/{song}\")\n",
    "\n",
    "def graph3 (song):\n",
    "    pio.templates.default = \"plotly_dark\"\n",
    "    fig = make_subplots(rows=1, cols=1)      \n",
    "    parts = []\n",
    "    for part in data3[song].keys():\n",
    "        v = True if '1' in part else False\n",
    "        x, y = data3[song][part]\n",
    "        x2, y2 = data3_std[song][part]\n",
    "        std_err = y2/np.sqrt(5) \n",
    "        lower_y = y - std_err\n",
    "        upper_y = y + std_err\n",
    "        \n",
    "#         for i in range(y.size):\n",
    "#             if y[i] < 1:\n",
    "#                 y[i] = None\n",
    "                \n",
    "        fig.append_trace(\n",
    "            go.Scattergl(\n",
    "                x = x,\n",
    "                y = y,\n",
    "                name = f\"{song}: {part}\",\n",
    "                visible=v,\n",
    "#                 mode='markers'\n",
    "            ), 1, 1\n",
    "        )\n",
    "        \n",
    "        fig.append_trace(\n",
    "            go.Scatter(\n",
    "                x=np.concatenate((x, x[::-1])), # x, then x reversed\n",
    "                y=np.concatenate((upper_y, lower_y[::-1])), # upper, then lower reversed\n",
    "                fill='toself',\n",
    "                fillcolor=f'rgba({random.randint(30, 255)},{random.randint(30, 255)},{random.randint(30, 255)},0.6)',\n",
    "                line=dict(color='rgba(255,255,255,0)'),\n",
    "                hoverinfo=\"skip\",\n",
    "                visible=v,\n",
    "                name=f\"Stadard Err {part}:{song}\"\n",
    "            ), 1, 1\n",
    "        )\n",
    "        \n",
    "        parts.append(part)\n",
    "        parts.append(part)\n",
    "            \n",
    "\n",
    "    buttons = []\n",
    "    labels = ['Person 1', 'Person 2', 'Person 3']\n",
    "    for i, label in enumerate(labels):\n",
    "        visibility = [label[-1] in parts[j] for j in range(len(parts))]\n",
    "        button = dict(\n",
    "            label = label,\n",
    "            method = \"update\",\n",
    "            args = [{ 'visible': visibility}]\n",
    "        )\n",
    "\n",
    "        buttons.append(button)\n",
    "\n",
    "    updatemenus = list([\n",
    "        dict(active=0,\n",
    "            buttons=buttons,\n",
    "            direction=\"down\",\n",
    "            pad={\"r\": 10, \"t\": 10},\n",
    "            showactive=True,\n",
    "            xanchor=\"left\",\n",
    "            yanchor=\"top\",\n",
    "            x = 0.005,\n",
    "            y = 1.06,\n",
    "        )\n",
    "    ])\n",
    "   \n",
    "    fig.update_layout(\n",
    "        legend=dict(\n",
    "        orientation=\"h\",\n",
    "        yanchor=\"bottom\",\n",
    "        y=1.02,\n",
    "        xanchor=\"right\",\n",
    "        x=1\n",
    "        ),\n",
    "        margin=dict(l=0, r=0, t=100, b=0)\n",
    "    )\n",
    "    \n",
    "\n",
    "    fig.update_traces(\n",
    "        marker=dict(size=2),\n",
    "        selector=dict(mode='markers')\n",
    "    )\n",
    "    \n",
    "\n",
    "    fig['layout']['title'] = song\n",
    "    fig['layout']['width'] = 900\n",
    "    fig['layout']['height'] = 500\n",
    "    fig['layout']['showlegend'] = True\n",
    "    fig['layout']['updatemenus'] = updatemenus\n",
    "\n",
    "    iplot(fig, filename=\"dropdown\")"
   ]
  },
  {
   "cell_type": "code",
   "execution_count": null,
   "metadata": {},
   "outputs": [],
   "source": [
    "graph3(\"Adila-Alipasha\")"
   ]
  },
  {
   "cell_type": "code",
   "execution_count": null,
   "metadata": {
    "scrolled": false
   },
   "outputs": [],
   "source": [
    "graph3(\"Indi-Mindi\")"
   ]
  },
  {
   "cell_type": "code",
   "execution_count": null,
   "metadata": {},
   "outputs": [],
   "source": [
    "graph3('Mival Guriashi (1)' )"
   ]
  },
  {
   "cell_type": "code",
   "execution_count": null,
   "metadata": {},
   "outputs": [],
   "source": [
    "graph3('Pikris Simghera')"
   ]
  },
  {
   "cell_type": "code",
   "execution_count": null,
   "metadata": {},
   "outputs": [],
   "source": [
    "graph3(\"Alaverdi\")"
   ]
  },
  {
   "cell_type": "code",
   "execution_count": null,
   "metadata": {},
   "outputs": [],
   "source": [
    "graph3(\"K'alos Khelkhvavi\")"
   ]
  },
  {
   "cell_type": "code",
   "execution_count": null,
   "metadata": {},
   "outputs": [],
   "source": [
    "graph3('Mival Guriashi (2)' )"
   ]
  },
  {
   "cell_type": "code",
   "execution_count": null,
   "metadata": {},
   "outputs": [],
   "source": [
    "graph3(\"Sabodisho\")"
   ]
  },
  {
   "cell_type": "code",
   "execution_count": null,
   "metadata": {},
   "outputs": [],
   "source": [
    "graph3(\"Khasanbegura\")"
   ]
  },
  {
   "cell_type": "code",
   "execution_count": null,
   "metadata": {},
   "outputs": [],
   "source": [
    "graph3(\"Mok'le Mravalzhamieri\")"
   ]
  },
  {
   "cell_type": "code",
   "execution_count": null,
   "metadata": {},
   "outputs": [],
   "source": [
    "graph3('Sadats Vshobilvar')"
   ]
  },
  {
   "cell_type": "code",
   "execution_count": null,
   "metadata": {},
   "outputs": [],
   "source": [
    "graph3(\"Beri Ak'vans Epareba\")"
   ]
  },
  {
   "cell_type": "code",
   "execution_count": null,
   "metadata": {},
   "outputs": [],
   "source": [
    "graph3(\"Lat'aris Simghera\")"
   ]
  },
  {
   "cell_type": "code",
   "execution_count": null,
   "metadata": {},
   "outputs": [],
   "source": [
    "graph3(\"Mts'vanesa Da Ukudosa\")"
   ]
  },
  {
   "cell_type": "code",
   "execution_count": null,
   "metadata": {},
   "outputs": [],
   "source": [
    "graph3(\"Shermanduli\")"
   ]
  },
  {
   "cell_type": "code",
   "execution_count": null,
   "metadata": {},
   "outputs": [],
   "source": [
    "graph3(\"Brevalo\")"
   ]
  },
  {
   "cell_type": "code",
   "execution_count": null,
   "metadata": {},
   "outputs": [],
   "source": [
    "graph3(\"Manana\")"
   ]
  },
  {
   "cell_type": "code",
   "execution_count": null,
   "metadata": {},
   "outputs": [],
   "source": [
    "graph3('Nanina (1)')"
   ]
  },
  {
   "cell_type": "code",
   "execution_count": null,
   "metadata": {},
   "outputs": [],
   "source": [
    "graph3(\"Shvidk'atsa\")"
   ]
  },
  {
   "cell_type": "code",
   "execution_count": null,
   "metadata": {},
   "outputs": [],
   "source": [
    "graph3(\"Chven-Mshvidoba\")"
   ]
  },
  {
   "cell_type": "code",
   "execution_count": null,
   "metadata": {},
   "outputs": [],
   "source": [
    "graph3(\"Maq'ruli\")"
   ]
  },
  {
   "cell_type": "code",
   "execution_count": null,
   "metadata": {},
   "outputs": [],
   "source": [
    "graph3('Nanina (2)')"
   ]
  },
  {
   "cell_type": "code",
   "execution_count": null,
   "metadata": {},
   "outputs": [],
   "source": [
    "graph3('Supris Khelkhvavi')"
   ]
  },
  {
   "cell_type": "code",
   "execution_count": null,
   "metadata": {},
   "outputs": [],
   "source": [
    "graph3('Didi Khnidan')"
   ]
  },
  {
   "cell_type": "code",
   "execution_count": null,
   "metadata": {},
   "outputs": [],
   "source": [
    "graph3(\"Masp'indzelsa Mkhiarulsa\")"
   ]
  },
  {
   "cell_type": "code",
   "execution_count": null,
   "metadata": {},
   "outputs": [],
   "source": [
    "graph3(\"Orira\")"
   ]
  },
  {
   "cell_type": "code",
   "execution_count": null,
   "metadata": {},
   "outputs": [],
   "source": [
    "graph3(\"Ts'amok'ruli\")"
   ]
  },
  {
   "cell_type": "code",
   "execution_count": null,
   "metadata": {},
   "outputs": [],
   "source": [
    "graph3(\"Gakhsovs, T'urpa\")"
   ]
  },
  {
   "cell_type": "code",
   "execution_count": null,
   "metadata": {},
   "outputs": [],
   "source": [
    "graph3(\"Me-Rustveli\")"
   ]
  },
  {
   "cell_type": "code",
   "execution_count": null,
   "metadata": {},
   "outputs": [],
   "source": [
    "graph3(\"P'at'ara Saq'varelo\")"
   ]
  }
 ],
 "metadata": {
  "kernelspec": {
   "display_name": "Python 3",
   "language": "python",
   "name": "python3"
  },
  "language_info": {
   "codemirror_mode": {
    "name": "ipython",
    "version": 3
   },
   "file_extension": ".py",
   "mimetype": "text/x-python",
   "name": "python",
   "nbconvert_exporter": "python",
   "pygments_lexer": "ipython3",
   "version": "3.7.6"
  }
 },
 "nbformat": 4,
 "nbformat_minor": 4
}
