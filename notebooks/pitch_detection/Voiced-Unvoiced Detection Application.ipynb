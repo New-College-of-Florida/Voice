{
 "cells": [
  {
   "cell_type": "markdown",
   "metadata": {},
   "source": [
    "### Applies previously calculated v-uv.\n",
    "\n",
    "Zeroes out unvoiced sections of each algorithm's note estimates"
   ]
  },
  {
   "cell_type": "code",
   "execution_count": null,
   "metadata": {},
   "outputs": [],
   "source": [
    "import numpy as np\n",
    "import os\n",
    "\n",
    "target_algos = ['yin']#, 'maddox', 'noll', 'hermes', 'crepe', 'boersma']\n",
    "target_song = 'Mi Re Sotsodali_'\n",
    "data_dir = '/Akamai/voice/data/pitches/'\n",
    "vuv_dir = '/Akamai/voice/data/pitches-raw/'\n",
    "res_dir = '/Akamai/voice/data/pitches-vuv/'"
   ]
  },
  {
   "cell_type": "code",
   "execution_count": null,
   "metadata": {},
   "outputs": [],
   "source": [
    "def separate(adir):\n",
    "    conv={}\n",
    "    conv[0] = lambda s: float(s.strip() or 0)\n",
    "    x,y = np.loadtxt(adir, unpack=True, usecols=(0,1), converters=conv)\n",
    "    return (x,y)"
   ]
  },
  {
   "cell_type": "code",
   "execution_count": null,
   "metadata": {},
   "outputs": [],
   "source": [
    "def apply_detection (uy, ay):\n",
    "    uy = uy[:ay.size]\n",
    "    ay[uy == 0] = 0\n",
    "    return ay\n",
    "    \n",
    "def save_song (path, x, y):\n",
    "    fout = open(path, \"w+\")\n",
    "    for i in range(x.size):\n",
    "        fout.write(f\"{x[i]} {y[i]}\\n\")\n",
    "    fout.close()"
   ]
  },
  {
   "cell_type": "code",
   "execution_count": null,
   "metadata": {},
   "outputs": [],
   "source": [
    "ignore_files = ['raw.txt', 'bass', 'middle', 'top']\n",
    "\n",
    "def ignore(name):\n",
    "    for suffix in ignore_files:\n",
    "        if suffix in location:\n",
    "            return True\n",
    "    return False\n",
    "\n",
    "def file_existence(path, force=False):\n",
    "    if force:\n",
    "        return False\n",
    "    return os.path.isfile(path)"
   ]
  },
  {
   "cell_type": "code",
   "execution_count": null,
   "metadata": {
    "scrolled": false
   },
   "outputs": [],
   "source": [
    "for algorithm in sorted(os.listdir(data_dir)):\n",
    "    if algorithm in target_algos:\n",
    "        for collection in sorted(os.listdir(f\"{data_dir}{algorithm}\")):\n",
    "            for song in sorted(os.listdir(f\"{data_dir}{algorithm}/{collection}\")):\n",
    "                if (target_song != song) and (target_song != \"\"):\n",
    "                    continue\n",
    "                for location in sorted(os.listdir(f\"{data_dir}{algorithm}/{collection}/{song}\")):\n",
    "                    if ignore(location):\n",
    "                        continue\n",
    "                    if not os.path.isfile(os.path.join(vuv_dir, 'v-uv', collection, song, location)):\n",
    "                        continue\n",
    "                    #print(song, location)\n",
    "                    #if not '009' in location:\n",
    "                    #    continue\n",
    "                    # add force=True to overwrite the pitch in res_dir\n",
    "#                     if file_existence(f\"{res_dir}{algorithm}/{collection}/{song}/{location}\"):\n",
    "#                         print(f\"{algorithm}:{location} already exists\")\n",
    "#                         continue\n",
    "                        \n",
    "                    print(algorithm, location)\n",
    "                    ux, uy = separate(f\"{vuv_dir}{'v-uv'}/{collection}/{song}/{location}\")\n",
    "                    ax, ay = separate(f\"{data_dir}{algorithm}/{collection}/{song}/{location}\")\n",
    "                    ay = apply_detection(uy, ay)\n",
    "\n",
    "                    if not os.path.isdir(f\"{res_dir}{algorithm}/{collection}/{song}\"):\n",
    "                        os.mkdir(f\"{res_dir}{algorithm}/{collection}/{song}\")\n",
    "                    save_song(f\"{res_dir}{algorithm}/{collection}/{song}/{location}\", ax, ay)\n",
    "                    "
   ]
  },
  {
   "cell_type": "code",
   "execution_count": null,
   "metadata": {},
   "outputs": [],
   "source": []
  }
 ],
 "metadata": {
  "kernelspec": {
   "display_name": "Python 3",
   "language": "python",
   "name": "python3"
  },
  "language_info": {
   "codemirror_mode": {
    "name": "ipython",
    "version": 3
   },
   "file_extension": ".py",
   "mimetype": "text/x-python",
   "name": "python",
   "nbconvert_exporter": "python",
   "pygments_lexer": "ipython3",
   "version": "3.7.6"
  }
 },
 "nbformat": 4,
 "nbformat_minor": 4
}
