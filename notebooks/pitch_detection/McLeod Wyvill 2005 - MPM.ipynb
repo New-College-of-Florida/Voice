{
 "cells": [
  {
   "cell_type": "markdown",
   "metadata": {},
   "source": [
    "### Notebook Preliminaries \n",
    "\n",
    "Make equation numbers work in Latex markdown."
   ]
  },
  {
   "cell_type": "code",
   "execution_count": 1,
   "metadata": {},
   "outputs": [
    {
     "data": {
      "application/javascript": [
       "MathJax.Hub.Config({\n",
       "    TeX: { equationNumbers: { autoNumber: \"AMS\" } }\n",
       "});\n",
       "MathJax.Hub.Register.StartupHook(\"TeX AMSmath Ready\", function () {\n",
       "  var AMS = MathJax.Extension['TeX/AMSmath'];\n",
       "  MathJax.InputJax.TeX.postfilterHooks.Add(function (data) {\n",
       "    var jax = data.script.MathJax;\n",
       "    jax.startNumber = AMS.startNumber;\n",
       "    jax.eqLabels = AMS.eqlabels;\n",
       "    jax.eqIDs = AMS.eqIDs;\n",
       "  });\n",
       "  MathJax.InputJax.TeX.prefilterHooks.Add(function (data) {\n",
       "    var jax = data.script.MathJax;\n",
       "    if (jax.startNumber != undefined) {\n",
       "      AMS.startNumber = jax.startNumber;\n",
       "      Object.keys(jax.eqLabels).forEach(function (x) {delete AMS.labels[x]});\n",
       "      Object.keys(jax.eqIDs).forEach(function (x) {delete AMS.IDs[x]});\n",
       "    }\n",
       "  }, 1);\n",
       "});\n"
      ],
      "text/plain": [
       "<IPython.core.display.Javascript object>"
      ]
     },
     "metadata": {},
     "output_type": "display_data"
    }
   ],
   "source": [
    "%%javascript\n",
    "MathJax.Hub.Config({\n",
    "    TeX: { equationNumbers: { autoNumber: \"AMS\" } }\n",
    "});\n",
    "MathJax.Hub.Register.StartupHook(\"TeX AMSmath Ready\", function () {\n",
    "  var AMS = MathJax.Extension['TeX/AMSmath'];\n",
    "  MathJax.InputJax.TeX.postfilterHooks.Add(function (data) {\n",
    "    var jax = data.script.MathJax;\n",
    "    jax.startNumber = AMS.startNumber;\n",
    "    jax.eqLabels = AMS.eqlabels;\n",
    "    jax.eqIDs = AMS.eqIDs;\n",
    "  });\n",
    "  MathJax.InputJax.TeX.prefilterHooks.Add(function (data) {\n",
    "    var jax = data.script.MathJax;\n",
    "    if (jax.startNumber != undefined) {\n",
    "      AMS.startNumber = jax.startNumber;\n",
    "      Object.keys(jax.eqLabels).forEach(function (x) {delete AMS.labels[x]});\n",
    "      Object.keys(jax.eqIDs).forEach(function (x) {delete AMS.IDs[x]});\n",
    "    }\n",
    "  }, 1);\n",
    "});"
   ]
  },
  {
   "cell_type": "markdown",
   "metadata": {},
   "source": [
    "## Algorithm"
   ]
  },
  {
   "cell_type": "markdown",
   "metadata": {},
   "source": [
    "#### Global constants across different experiments\n",
    "\n",
    "- Minimum frequency to measure: 60Hz\n",
    "- Hop: 0.01s between measurements\n",
    "- Maximum frequency: a default value when the algorithm gets confused\n",
    "- Minimum singing sound volume: 0.05"
   ]
  },
  {
   "cell_type": "code",
   "execution_count": 2,
   "metadata": {},
   "outputs": [],
   "source": [
    "def min_f0():\n",
    "    return 60\n",
    "\n",
    "def hop_ms():\n",
    "    return 10\n",
    "\n",
    "def max_f0():\n",
    "    return 2000\n",
    "\n",
    "def min_singing_volume():\n",
    "    return 0.05\n"
   ]
  },
  {
   "cell_type": "markdown",
   "metadata": {},
   "source": [
    "### Main steps\n",
    "\n",
    "The McLeod algorithm, like Yin, works in the \"time domain\", i.e., the original audio. The first two steps are the same as for Yin except that McLeod uses the true autocorrelation.\n",
    "\n",
    "- Use the method in the [paper of McLeod and Wyvill](https://drive.google.com/file/d/1n228Ly4G4MuCBmXyNw9XH9smGhTCfRlc/view?usp=sharing) to detect the (one) fundamental frequency of the voice in the audio\n",
    "    - Step 1. True autocorrelation.\n",
    "    - Step 2. Difference function.\n",
    "    - Step 3. Normalized difference function (NDF): makes the minimum clearer (removes need for a min period)\n",
    "    - Step 4. "
   ]
  },
  {
   "cell_type": "markdown",
   "metadata": {},
   "source": [
    "### Notes\n",
    "\n",
    "Notes on development.\n",
    "\n",
    "- 8/5/20\n",
    "    - First version."
   ]
  },
  {
   "cell_type": "markdown",
   "metadata": {},
   "source": [
    "### Step 1. Simple autocorrelation\n",
    "\n",
    "The paper uses the usual definition of autocorrelation:\n",
    "\n",
    "\\begin{equation}\n",
    "r_t(\\tau) = \\sum^{t+W-1-\\tau}_{j=t} x_j x_{j+\\tau}\n",
    "\\end{equation}\n",
    "\n",
    "For reference Yin uses the following formula as its default:\n",
    "\n",
    "\\begin{equation}\n",
    "r_t(\\tau) = \\sum^{t+W-1}_{j=t} x_j x_{j+\\tau}\n",
    "\\end{equation}"
   ]
  },
  {
   "cell_type": "markdown",
   "metadata": {},
   "source": [
    "#### Define helper functions and a function to calculate f0 at equally spaced sample points in an audio file"
   ]
  },
  {
   "cell_type": "code",
   "execution_count": 10,
   "metadata": {},
   "outputs": [],
   "source": [
    "import scipy.signal as ss\n",
    "import scipy.fft\n",
    "import librosa\n",
    "import numpy as np\n",
    "import matplotlib.pyplot as plt\n",
    "\n",
    "# initial low-pass filter\n",
    "def lowpass_filter(y):\n",
    "    return ss.convolve(y, np.ones(48), mode='same', method='auto')\n",
    "\n",
    "# autocorrelation function - Eqn (1) above\n",
    "#  - computed by fft, squared, inverse fft'd\n",
    "def acf(y, W, t=0):\n",
    "    return np.real(scipy.fft.ifft(np.square(np.abs(scipy.fft.fft(pad)))))\n",
    "    \n",
    "#\n",
    "# - Does something only if acf.size >= W and t>0\n",
    "def acf_incremental(y, W, t, acf):\n",
    "    if t <= 0 or acf.size < W:\n",
    "        return None\n",
    "    try:\n",
    "        return acf + y[t+W-1]*y[t+W-1:t+2*W-1] - y[t-1]*y[t-1:t+W-1]\n",
    "    except ValueError:\n",
    "        print(acf.size, t, W, y.size)\n",
    "            \n",
    "# returns a ramp used to dampen the autocorrelation function\n",
    "def get_ramp(tau_max):\n",
    "    return 1-np.array(range(tau_max,))/tau_max\n",
    "\n",
    "# This relationship is from the paper.\n",
    "def W_ms():\n",
    "    return 1000//min_f0()\n",
    "\n",
    "# returns a batch of autocorrelation functions indexed by (t, tau)\n",
    "def get_acf_in_range(y, W, start, end):\n",
    "    acf = np.ndarray((end-start, W))\n",
    "    \n",
    "    for t in range(start, end): \n",
    "        if t==start:\n",
    "            acf[t-start,:] = acf1_from_scratch(y, W, t)\n",
    "        else:\n",
    "            acf[t-start,:] = acf1_incremental(y, W, t, acf[t-start-1,:])\n",
    "            \n",
    "    return acf\n",
    "\n",
    "# finds f0 from an autocorrelation function\n",
    "# - for now, finds the second strongest wavelength of the acf, after 0:\n",
    "#   - Assume f0<min_f0, so wavelength >sr/min_f0\n",
    "#   - Find argmax(smooth_acf(tau)), tau > sr/min_f0\n",
    "# - acf: a list of acf(tau) for tau = 0,..., W-1\n",
    "def get_f0(acf, sr):\n",
    "    return sr//(sr//max_f0() + np.argmax(acf[sr//max_f0():]))"
   ]
  },
  {
   "cell_type": "markdown",
   "metadata": {},
   "source": [
    "### Step 2. Difference function\n",
    "\n",
    "From the Yin paper, the \"signal model\" for a periodic signal of period $T$\n",
    "\n",
    "\\begin{equation}\n",
    "x_t - x_{t+T} = 0,~\\forall T\n",
    "\\end{equation}\n",
    "\n",
    "suggests minimizing the sum of squares of differences \n",
    "\n",
    "\\begin{align}\n",
    "d_t(\\tau) & = \\sum^{t+W-\\tau - 1}_{j=t} (x_j - x_{j+\\tau})^2 \\\\\n",
    "          & = m_t(\\tau) - 2r_t(\\tau),\n",
    "\\end{align}\n",
    "\n",
    "where\n",
    "\n",
    "\\begin{equation}\n",
    "m_t(\\tau) = \\sum^{t+W-\\tau - 1}_{j=t} x^2_j + x^2_{j+\\tau}.\n",
    "\\end{equation}\n",
    "\n",
    "#### Note\n",
    "\n",
    "We need only compute $d_t(\\tau)$ for $t = $ a multiple of `hop_ms()`, or every $sr/100$ samples.\n"
   ]
  },
  {
   "cell_type": "markdown",
   "metadata": {},
   "source": [
    "### Step 2, revised. Symmetric Difference function\n",
    "\n",
    "To average nearby frequencies at time $t$ for each $\\tau$, the paper uses a sum symmetric around $t$:\n",
    "\n",
    "\\begin{align}\n",
    "d_t(\\tau) & = \\sum^{t+(W-\\tau)/2 - 1}_{j=t-(W-\\tau)/2} (x_j - x_{j+\\tau})^2 \\\\\n",
    "          & = m_t(\\tau) - 2r_t(\\tau),\n",
    "\\end{align}\n",
    "\n",
    "where\n",
    "\n",
    "\\begin{equation}\n",
    "m_t(\\tau) = \\sum^{t+(W-\\tau)/2 - 1}_{j=t-(W-\\tau)/2} x^2_j + x^2_{j+\\tau}.\n",
    "\\end{equation}"
   ]
  },
  {
   "cell_type": "markdown",
   "metadata": {},
   "source": [
    "### Step 3. Normalized Squared Difference Function (NSDF)\n",
    "\n",
    "The normalized difference function is\n",
    "\n",
    "\\begin{align}\n",
    "n_t(\\tau) & = 1 - \\frac{d_t(\\tau)}{m_t(\\tau)} \\\\\n",
    "          & = \\frac{2r_t(\\tau)}{m_t(\\tau)}.\n",
    "\\end{align}\n"
   ]
  },
  {
   "cell_type": "markdown",
   "metadata": {},
   "source": [
    "#### We can compute the autocorrelation $r_t(\\tau)$ fast using FFT.\n",
    "\n",
    "#### Computing $m_t(\\tau)$ fast:\n",
    "\n",
    "Let's use the recursion\n",
    "\n",
    "\\begin{equation}\n",
    "m_t(\\tau) = m_{t-1}(\\tau) + x^2_{t+\\frac{W-\\tau}{2}-1} - x^2_{t-\\frac{W-\\tau}{2}-1}\n",
    "                          + x^2_{t+\\frac{W-\\tau}{2}+\\tau-1} - x^2_{t-\\frac{W-\\tau}{2}+\\tau-1} \n",
    "\\end{equation}\n",
    "\n",
    "to fill the 1D array $\\{m(t, \\tau): \\tau = 0, 1, \\ldots, \\tau_{max}\\}$, for each $t = 0, 1, \\ldots$. "
   ]
  },
  {
   "cell_type": "markdown",
   "metadata": {},
   "source": [
    "### Step 4. Threshold for minimum of difference function\n",
    "\n",
    "Choose the smallest local minimum value of $d'$ below a threshold.\n",
    "\n",
    "The paper chooses a threshold of $0.1$.\n",
    "\n",
    "I've modified that to a threshold of $min(0.1,2*{\\text global min})$ because the Yin algorithm picks up higher frequencies from the larynx mic during a glissando.\n"
   ]
  },
  {
   "cell_type": "code",
   "execution_count": null,
   "metadata": {},
   "outputs": [],
   "source": []
  }
 ],
 "metadata": {
  "kernelspec": {
   "display_name": "Python 3",
   "language": "python",
   "name": "python3"
  },
  "language_info": {
   "codemirror_mode": {
    "name": "ipython",
    "version": 3
   },
   "file_extension": ".py",
   "mimetype": "text/x-python",
   "name": "python",
   "nbconvert_exporter": "python",
   "pygments_lexer": "ipython3",
   "version": "3.7.6"
  }
 },
 "nbformat": 4,
 "nbformat_minor": 4
}
