{
 "cells": [
  {
   "cell_type": "markdown",
   "metadata": {},
   "source": [
    "# Alignment Algorithm\n",
    "\n",
    "The signal is interpolated via a cubic interpolation function provided by scipy.interpolate.interp1d. The difference between the the signal and the shifted signal (signal is shifted from all values from -0.5 seconds to 0.5 seconds). Finally, the fmindbound algorithm is applied to get a precise value for the shift."
   ]
  },
  {
   "cell_type": "code",
   "execution_count": 1,
   "metadata": {},
   "outputs": [],
   "source": [
    "import numpy as np\n",
    "from scipy import interpolate\n",
    "import matplotlib.pyplot as plt\n",
    "from scipy import optimize\n",
    "import os"
   ]
  },
  {
   "cell_type": "code",
   "execution_count": 2,
   "metadata": {},
   "outputs": [],
   "source": [
    "min_f0 = 60\n",
    "max_f0 = 2000"
   ]
  },
  {
   "cell_type": "code",
   "execution_count": 3,
   "metadata": {},
   "outputs": [],
   "source": [
    "data_dir = '/Akamai/voice/data/pitches-raw/'\n",
    "res_dir = '/Akamai/voice/data/pitches/'\n",
    "\n",
    "def align (x1, y1, x2, y2, graph=False):\n",
    "    y1[y1 > max_f0] = max_f0\n",
    "    y2[y2 > max_f0] = max_f0\n",
    "    \n",
    "    f1 = interpolate.interp1d(x1, y1, fill_value='extrapolate')\n",
    "    f2 = interpolate.interp1d(x2, y2, fill_value='extrapolate')\n",
    "    cx = np.arange(0, x1[len(x1)-1], 0.01)\n",
    "    s = np.arange(-.5, .5, 0.01)\n",
    "    sy = np.empty(s.size)\n",
    "    for i, e in enumerate(s):\n",
    "        sy[i] = np.sum(abs(f1(cx) - f2(cx + e)))\n",
    "    f3 = interpolate.interp1d(s, sy, fill_value='extrapolate')\n",
    "    \n",
    "    r_est = s[np.argmin(sy)]\n",
    "    os = optimize.fminbound(f3, r_est-0.05, r_est+0.05)\n",
    "    x = np.arange(0, x1[len(x1)-1], 0.01)\n",
    "    \n",
    "    if graph:\n",
    "        plt.figure(figsize=(20, 5))\n",
    "        plt.plot(s, sy)\n",
    "        plt.axvline()\n",
    "        \n",
    "    return (x, f2(x+os))\n",
    "\n",
    "def separate(adir):\n",
    "    conv={}\n",
    "    conv[0] = lambda s: float(s.strip() or 0)\n",
    "    x,y = np.loadtxt(adir, unpack=True, usecols=(0,1), converters=conv)\n",
    "    return (x,y)\n",
    "    \n",
    "def save_song (path, x, y):\n",
    "    fout = open(path, \"w+\")\n",
    "    for i in range(x.size):\n",
    "        fout.write(f\"{x[i]} {y[i]}\\n\")\n",
    "    fout.close()\n",
    "    \n",
    "def file_existence(path, force=False):\n",
    "    if force:\n",
    "        return False\n",
    "    return os.path.isfile(path)"
   ]
  },
  {
   "cell_type": "markdown",
   "metadata": {},
   "source": [
    "### Functions for Input, Processing and Output"
   ]
  },
  {
   "cell_type": "code",
   "execution_count": 4,
   "metadata": {},
   "outputs": [],
   "source": [
    "def read_data (collection_name):\n",
    "    global data, data_dir\n",
    "    \n",
    "    for algorithm in sorted(os.listdir(data_dir)):\n",
    "        if algorithm in data:\n",
    "            for collection in sorted(os.listdir(f\"{data_dir}{algorithm}\")):\n",
    "                if collection != collection_name:\n",
    "                    continue\n",
    "                for song in sorted(os.listdir(f\"{data_dir}{algorithm}/{collection}\")):\n",
    "                    for location in sorted(os.listdir(f\"{data_dir}{algorithm}/{collection}/{song}\")):\n",
    "                        \n",
    "                        # add force=True to overwrite the pitch in res_dir\n",
    "#                         if file_existence(f\"{res_dir}{algorithm}/{collection}/{song}/{location}\"):\n",
    "#                             print(f\"{algorithm}:{location} already exists\")\n",
    "#                             continue\n",
    "                        \n",
    "                        if (location[-4:] == '.txt') and song in data[algorithm]:\n",
    "                            x, y = separate(f\"{data_dir}{algorithm}/{collection}/{song}/{location}\")\n",
    "                            data[algorithm][song][location] = (x, y)\n",
    "def align_songs ():\n",
    "    global data_dir, data\n",
    "    \n",
    "    for song in data['boersma'].keys():\n",
    "        for part, pitches in data['boersma'][song].items():\n",
    "            for algo in data.keys():\n",
    "                if part in data[algo][song]:\n",
    "                    bx, by = data['boersma'][song][part]\n",
    "                    ox, oy = data[algo][song][part]\n",
    "                    mx, my = align(bx, by, ox, oy)\n",
    "                    data[algo][song][part] = (mx, my)\n",
    "                else:\n",
    "                    print(f\"{song}/{part} does not exist for {algo}\")\n",
    "                    \n",
    "def save_aligned (collection_name):\n",
    "    for algo in data.keys():\n",
    "        for song in data[algo].keys():\n",
    "            for part in data[algo][song].keys():\n",
    "                x, y = data[algo][song][part]\n",
    "                c_path = f\"{res_dir}{algo}/{collection_name}/{song}/{part}\"\n",
    "                save_song(c_path, x, y)"
   ]
  },
  {
   "cell_type": "markdown",
   "metadata": {},
   "source": [
    "### Scherbaum Mshavanadze"
   ]
  },
  {
   "cell_type": "code",
   "execution_count": null,
   "metadata": {
    "scrolled": false
   },
   "outputs": [],
   "source": [
    "songs = [\"GVM009_BatonebisNanina_Tbilisi_Mzetamze_20160919\", \n",
    "         \"GVM017_ChvenMshvidobaTake2_Ozurgeti_ShalvaChemo2016_20160713\", \n",
    "         \"GVM019_DaleKojas_DidgoriVillage_Didgori_20160707\", \n",
    "         \"GVM031_EliaLrde_LakhushdiVillage_MuradGigoGivi_20160819\", \n",
    "         \"GVM097_KristeAghsdga_LakhushdiVillage_MuradGigoGivi_20160819\"\n",
    "        ]\n",
    "\n",
    "data = {\n",
    "    \"boersma\": {},\n",
    "    \"noll\": {},\n",
    "    \"praat\": {},\n",
    "    \"yin\": {},\n",
    "    \"crepe\": {},\n",
    "    \"maddox\": {},\n",
    "    \"hermes\": {}\n",
    "}\n",
    "\n",
    "\n",
    "for algo in data.keys():\n",
    "    for full_song in songs:\n",
    "        data[algo][full_song] = {}\n",
    "\n",
    "read_data('Scherbaum Mshavanadze')\n",
    "align_songs()\n",
    "save_aligned('Scherbaum Mshavanadze')"
   ]
  },
  {
   "cell_type": "markdown",
   "metadata": {},
   "source": [
    "### Teach Yourself Megrelian Songs"
   ]
  },
  {
   "cell_type": "code",
   "execution_count": 5,
   "metadata": {
    "scrolled": true
   },
   "outputs": [
    {
     "name": "stdout",
     "output_type": "stream",
     "text": [
      "Mi Re Sotsodali_/Mi Re Sotsodali_.txt does not exist for praat\n",
      "Mi Re Sotsodali_/Mi Re Sotsodali_.txt does not exist for yin\n",
      "Mi Re Sotsodali_/Mi Re Sotsodali__AHDS1M.txt does not exist for praat\n",
      "Mi Re Sotsodali_/Mi Re Sotsodali__AHDS2M.txt does not exist for praat\n",
      "Mi Re Sotsodali_/Mi Re Sotsodali__AHDS3M.txt does not exist for praat\n"
     ]
    }
   ],
   "source": [
    "songs = [#\"Ak'a Si Rekisho\", \n",
    "         #\"Gepshvat Ghvini\", \n",
    "         #\"Io _ Chkin Kiana\", \n",
    "         #\"Mesishi Vardi\", \n",
    "         #\"Meureme\", \n",
    "         \"Mi Re Sotsodali_\" #, \n",
    "         #\"Mole Chit'i Gilakhe\", \n",
    "         #\"O Da\", \n",
    "         #\"Vojanudi Chkim Jargvals\"\n",
    "        ]\n",
    "\n",
    "data = {\n",
    "    \"boersma\": {},\n",
    "    \"noll\": {},\n",
    "    \"praat\": {},\n",
    "    \"yin\": {},\n",
    "    \"crepe\": {},\n",
    "    \"maddox\": {},\n",
    "    \"hermes\": {}\n",
    "}\n",
    "\n",
    "\n",
    "for algo in data.keys():\n",
    "    for full_song in songs:\n",
    "        data[algo][full_song] = {}\n",
    "\n",
    "read_data('Teach Yourself Megrelian Songs')\n",
    "align_songs()\n",
    "save_aligned('Teach Yourself Megrelian Songs')"
   ]
  },
  {
   "cell_type": "markdown",
   "metadata": {},
   "source": [
    "### Teach Yourself Gurian Songs"
   ]
  },
  {
   "cell_type": "code",
   "execution_count": null,
   "metadata": {
    "scrolled": true
   },
   "outputs": [],
   "source": [
    "songs = [\n",
    "\"Adila-Alipasha\",\n",
    "\"Indi-Mindi\",\n",
    "'Mival Guriashi (1)' ,\n",
    "'Pikris Simghera',\n",
    "\"Alaverdi\",\n",
    "\"K'alos Khelkhvavi\",\n",
    "'Mival Guriashi (2)' , \n",
    "\"Sabodisho\",\n",
    "\"Khasanbegura\",     \n",
    "\"Mok'le Mravalzhamieri\",\n",
    "'Sadats Vshobilvar',\n",
    "\"Beri Ak'vans Epareba\", \n",
    "\"Lat'aris Simghera\",    \n",
    "\"Mts'vanesa Da Ukudosa\", \n",
    "\"Shermanduli\",\n",
    "\"Brevalo\",             \n",
    "\"Manana\",         \n",
    "'Nanina (1)',      \n",
    "\"Shvidk'atsa\",\n",
    "\"Chven-Mshvidoba\",    \n",
    "\"Maq'ruli\",               \n",
    "'Nanina (2)',          \n",
    "'Supris Khelkhvavi',\n",
    "'Didi Khnidan',     \n",
    "\"Masp'indzelsa Mkhiarulsa\", \n",
    "\"Orira\",                \n",
    "\"Ts'amok'ruli\",\n",
    "\"Gakhsovs, T'urpa\",\n",
    "\"Me-Rustveli\",        \n",
    "\"P'at'ara Saq'varelo\"\n",
    "]\n",
    "\n",
    "data = {\n",
    "    \"boersma\": {},\n",
    "    \"noll\": {},\n",
    "    \"praat\": {},\n",
    "    \"yin\": {},\n",
    "    \"crepe\": {},\n",
    "    \"maddox\": {},\n",
    "    \"hermes\": {}\n",
    "}\n",
    "\n",
    "\n",
    "for algo in data.keys():\n",
    "    for full_song in songs:\n",
    "        data[algo][full_song] = {}\n",
    "\n",
    "read_data('Teach Yourself Gurian Songs')\n",
    "align_songs()\n",
    "save_aligned('Teach Yourself Gurian Songs')"
   ]
  },
  {
   "cell_type": "markdown",
   "metadata": {},
   "source": [
    "### Debugging"
   ]
  },
  {
   "cell_type": "code",
   "execution_count": null,
   "metadata": {},
   "outputs": [],
   "source": [
    "bdd = '/Akamai/voice/data/pitches-raw/boersma/Scherbaum Mshavanadze/GVM009_BatonebisNanina_Tbilisi_Mzetamze_20160919/GVM009_BatonebisNanina_Tbilisi_Mzetamze_20160919_ALRX1M.txt'\n",
    "cdd = '/Akamai/voice/data/pitches-raw/crepe/Scherbaum Mshavanadze/GVM009_BatonebisNanina_Tbilisi_Mzetamze_20160919/GVM009_BatonebisNanina_Tbilisi_Mzetamze_20160919_ALRX1M.txt'\n",
    "bx, by = separate(bdd)\n",
    "cx, cy = separate(cdd)"
   ]
  },
  {
   "cell_type": "code",
   "execution_count": null,
   "metadata": {},
   "outputs": [],
   "source": [
    "mx, my = align(bx, by, cx, cy)"
   ]
  },
  {
   "cell_type": "code",
   "execution_count": null,
   "metadata": {},
   "outputs": [],
   "source": [
    "plt.figure(figsize=(20, 5))\n",
    "plt.plot(bx, by)\n",
    "plt.plot(cx, cy)\n",
    "# plt.plot(mx, my)"
   ]
  }
 ],
 "metadata": {
  "kernelspec": {
   "display_name": "Python 3",
   "language": "python",
   "name": "python3"
  },
  "language_info": {
   "codemirror_mode": {
    "name": "ipython",
    "version": 3
   },
   "file_extension": ".py",
   "mimetype": "text/x-python",
   "name": "python",
   "nbconvert_exporter": "python",
   "pygments_lexer": "ipython3",
   "version": "3.7.6"
  }
 },
 "nbformat": 4,
 "nbformat_minor": 4
}
