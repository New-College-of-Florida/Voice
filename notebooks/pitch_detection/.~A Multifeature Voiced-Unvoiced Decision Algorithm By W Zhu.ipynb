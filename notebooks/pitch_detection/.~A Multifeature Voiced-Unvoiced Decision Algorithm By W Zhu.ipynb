{
 "cells": [
  {
   "cell_type": "code",
   "execution_count": 1,
   "metadata": {},
   "outputs": [],
   "source": [
    "import numpy as np\n",
    "import librosa\n",
    "import matplotlib.pyplot as plt\n",
    "\n",
    "data_dir = \"/Akamai/voice/data/\"\n",
    "def load_file (name):\n",
    "    y, sr = librosa.load(data_dir+name)\n",
    "    return (y, sr)"
   ]
  },
  {
   "cell_type": "code",
   "execution_count": 2,
   "metadata": {},
   "outputs": [
    {
     "name": "stderr",
     "output_type": "stream",
     "text": [
      "/opt/anaconda3/lib/python3.7/site-packages/librosa/core/audio.py:161: UserWarning: PySoundFile failed. Trying audioread instead.\n",
      "  warnings.warn('PySoundFile failed. Trying audioread instead.')\n"
     ]
    }
   ],
   "source": [
    "import numpy as np\n",
    "y, sr = load_file(\"Scherbaum Mshavanadze/GVM009_BatonebisNanina_Tbilisi_Mzetamze_20160919/GVM009_BatonebisNanina_Tbilisi_Mzetamze_20160919_AHDS1M.mp3\")"
   ]
  },
  {
   "cell_type": "code",
   "execution_count": 31,
   "metadata": {},
   "outputs": [],
   "source": [
    "frames = np.arange(0, y.size/sr, 0.00997732426)\n",
    "frames_in_samples = np.arange(0, y.size, 220)"
   ]
  },
  {
   "cell_type": "markdown",
   "metadata": {},
   "source": [
    "## Periodicity Measure"
   ]
  },
  {
   "cell_type": "code",
   "execution_count": 3,
   "metadata": {},
   "outputs": [
    {
     "name": "stdout",
     "output_type": "stream",
     "text": [
      "0.017663507518839584\n",
      "15.460250478124356\n"
     ]
    },
    {
     "name": "stderr",
     "output_type": "stream",
     "text": [
      "/opt/anaconda3/lib/python3.7/site-packages/ipykernel_launcher.py:30: RuntimeWarning: invalid value encountered in true_divide\n"
     ]
    }
   ],
   "source": [
    "from scipy.fftpack import dct\n",
    "\n",
    "def find_periodicity_max (n_o, graph=False):\n",
    "    global y\n",
    "    \n",
    "    N = 1000\n",
    "#     hanning = np.hamming(y.size)\n",
    "#     hanning.astype('complex')\n",
    "#     hannign = hanning ** 2\n",
    "#     hanning_squared_sum = np.sum(hanning)\n",
    "#     hanning /= hanning_squared_sum\n",
    "#     hanning = np.sqrt(hanning)\n",
    "    \n",
    "    processed = y\n",
    "    \n",
    "    min_period = np.int(sr/500)\n",
    "    max_period = np.int(sr/50)\n",
    "\n",
    "    def autocorrelation (l):                \n",
    "        f = processed[n_o:N-abs(l)+n_o]\n",
    "        s = processed[abs(l)+n_o:N+n_o]\n",
    "        return (1/N) * np.sum(np.multiply(f, s))\n",
    "\n",
    "    def vlamdf (l):        \n",
    "        f = processed[n_o+l:n_o+2*l]\n",
    "        s = processed[n_o:l+n_o]\n",
    "        numerator = np.sum(np.abs(np.subtract(f, s)))\n",
    "        f = processed[n_o:2*l-1+n_o]\n",
    "        denominator = 0.5 * np.sum(np.abs(f))\n",
    "        return numerator/denominator\n",
    "\n",
    "    def enhanced_acf (p_l, N_max, arg_max):\n",
    "        return N_max * ((N-1)/(N-arg_max)) - p_l\n",
    "    \n",
    "    vect_autocorrelation = np.vectorize(autocorrelation)\n",
    "    vect_vlamdf = np.vectorize(vlamdf)\n",
    "\n",
    "    epsilon = 1\n",
    "    correlation = vect_autocorrelation(np.arange(N))\n",
    "    p_l = np.nan_to_num(vect_vlamdf(np.arange(N)))\n",
    "    n_l = np.divide(correlation, p_l + epsilon)\n",
    "    \n",
    "    k_l = enhanced_acf(p_l, np.max(p_l), np.argmax(p_l))\n",
    "    j_l = np.multiply(n_l, k_l)\n",
    "    \n",
    "    def sphf (tau):\n",
    "        y = np.arange(1, np.int(N/tau)) * tau\n",
    "        return np.sum(j_l[y]) * tau\n",
    "    \n",
    "    vect_sphf = np.vectorize(sphf)\n",
    "    \n",
    "    p_t = vect_sphf(np.arange(min_period, max_period+1))\n",
    "    cy = np.max(p_t)\n",
    "    \n",
    "    if graph:\n",
    "        plt.figure()\n",
    "        plt.plot(p_t)\n",
    "        plt.xlabel('sample rate')\n",
    "        plt.ylabel('amplitude')\n",
    "        plt.title('periodicity analysis')\n",
    "    \n",
    "    return cy\n",
    "\n",
    "print(find_periodicity_max(1 * sr)) # unvoiced\n",
    "print(find_periodicity_max(20 * sr)) # voiced"
   ]
  },
  {
   "cell_type": "markdown",
   "metadata": {},
   "source": [
    "## Zero-crossing rate-weighted RMS energy"
   ]
  },
  {
   "cell_type": "code",
   "execution_count": 4,
   "metadata": {},
   "outputs": [
    {
     "name": "stdout",
     "output_type": "stream",
     "text": [
      "7.571771595403471e-05\n",
      "0.0012426604337535834\n"
     ]
    }
   ],
   "source": [
    "def sgn (x):\n",
    "    if x == 0:\n",
    "        return 0\n",
    "    elif x > 0:\n",
    "        return 1\n",
    "    else:\n",
    "        return -1\n",
    "\n",
    "def find_weighted_zero_crossing (n_o):\n",
    "    N = 1000\n",
    "    processed = y\n",
    "    rms = np.sqrt(np.sum(processed[n_o+1:n_o+N+1] ** 2) / N)\n",
    "    \n",
    "    vect_sgn = np.vectorize(sgn)\n",
    "    zcr = np.sum(np.abs(np.subtract(vect_sgn(processed[n_o+1:n_o+N]), vect_sgn(processed[n_o:n_o+N-1]))))\n",
    "    \n",
    "    return rms/zcr\n",
    "        \n",
    "print(find_weighted_zero_crossing(1 * sr)) # unvoiced\n",
    "print(find_weighted_zero_crossing(20 * sr)) # voiced"
   ]
  },
  {
   "cell_type": "markdown",
   "metadata": {},
   "source": [
    "## Kaiser-Teager frame energy"
   ]
  },
  {
   "cell_type": "code",
   "execution_count": 5,
   "metadata": {
    "scrolled": false
   },
   "outputs": [
    {
     "name": "stdout",
     "output_type": "stream",
     "text": [
      "0.029672684\n",
      "0.86064273\n"
     ]
    }
   ],
   "source": [
    "def kaiser_teager (f, s):\n",
    "    return f**2 - np.multiply(f, s)\n",
    "\n",
    "def find_kaiser_teager_frame_energy (n_o):\n",
    "    N = 1000\n",
    "    processed = y\n",
    "    n = processed[np.arange(n_o, n_o + N+1)]\n",
    "    \n",
    "    k_t = kaiser_teager(n[1:], n[:-1])\n",
    "    return np.sqrt(np.sum(k_t))\n",
    "\n",
    "print(find_kaiser_teager_frame_energy(1 * sr)) # unvoiced\n",
    "print(find_kaiser_teager_frame_energy(20 * sr)) # voiced"
   ]
  },
  {
   "cell_type": "markdown",
   "metadata": {},
   "source": [
    "## Normalized low-frequency energy ratio"
   ]
  },
  {
   "cell_type": "code",
   "execution_count": 124,
   "metadata": {},
   "outputs": [],
   "source": [
    "from scipy import signal\n",
    "from scipy.fft import fftshift\n",
    "\n",
    "spectogram = None\n",
    "\n",
    "def generate_spectogram():\n",
    "    global spectogram\n",
    "    f, t, Sxx = signal.spectrogram(y, sr, nperseg=1000, noverlap=780)\n",
    "    spectogram = Sxx\n",
    "    print(spectogram.shape)\n",
    "    \n",
    "def find_low_frequency_energy_ratio (n_o):\n",
    "    processed = y\n",
    "    N = 1000\n",
    "    total_sum = np.sum(spectogram) / N\n",
    "    \n",
    "    return np.sum()\n"
   ]
  }
 ],
 "metadata": {
  "kernelspec": {
   "display_name": "Python 3",
   "language": "python",
   "name": "python3"
  },
  "language_info": {
   "codemirror_mode": {
    "name": "ipython",
    "version": 3
   },
   "file_extension": ".py",
   "mimetype": "text/x-python",
   "name": "python",
   "nbconvert_exporter": "python",
   "pygments_lexer": "ipython3",
   "version": "3.7.6"
  }
 },
 "nbformat": 4,
 "nbformat_minor": 4
}
