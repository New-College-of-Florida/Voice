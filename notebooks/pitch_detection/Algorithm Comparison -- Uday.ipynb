{
 "cells": [
  {
   "cell_type": "markdown",
   "metadata": {},
   "source": [
    "### Scherbuam Mshavanadze"
   ]
  },
  {
   "cell_type": "code",
   "execution_count": null,
   "metadata": {},
   "outputs": [],
   "source": [
    "import plotly.offline\n",
    "import plotly.express as px\n",
    "import plotly.io as pio\n",
    "from plotly import tools\n",
    "plotly.offline.init_notebook_mode(connected=True) \n",
    "import plotly.graph_objects as go\n",
    "from plotly.subplots import make_subplots\n",
    "import os\n",
    "from copy import deepcopy\n",
    "from plotly.offline import init_notebook_mode, iplot, plot\n",
    "import numpy as np"
   ]
  },
  {
   "cell_type": "code",
   "execution_count": null,
   "metadata": {},
   "outputs": [],
   "source": [
    "data = {\n",
    "    \"boersma\": {\n",
    "        \"GVM009\": {},\n",
    "        \"GVM017\": {},\n",
    "        \"GVM019\": {},\n",
    "        \"GVM031\": {},\n",
    "        \"GVM097\": {}\n",
    "    },\n",
    "    \"noll\": {\n",
    "        \"GVM009\": {},\n",
    "        \"GVM017\": {},\n",
    "        \"GVM019\": {},\n",
    "        \"GVM031\": {},\n",
    "        \"GVM097\": {}\n",
    "    },\n",
    "    \"praat\": {\n",
    "        \"GVM009\": {},\n",
    "        \"GVM017\": {},\n",
    "        \"GVM019\": {},\n",
    "        \"GVM031\": {},\n",
    "        \"GVM097\": {}\n",
    "    },\n",
    "    \"yin\": {\n",
    "        \"GVM009\": {},\n",
    "        \"GVM017\": {},\n",
    "        \"GVM019\": {},\n",
    "        \"GVM031\": {},\n",
    "        \"GVM097\": {}\n",
    "    },\n",
    "    \"crepe\": {\n",
    "        \"GVM009\": {},\n",
    "        \"GVM017\": {},\n",
    "        \"GVM019\": {},\n",
    "        \"GVM031\": {},\n",
    "        \"GVM097\": {}\n",
    "    },\n",
    "    \"maddox\": {\n",
    "        \"GVM009\": {},\n",
    "        \"GVM017\": {},\n",
    "        \"GVM019\": {},\n",
    "        \"GVM031\": {},\n",
    "        \"GVM097\": {}\n",
    "    },\n",
    "    \"hermes\": {\n",
    "        \"GVM009\": {},\n",
    "        \"GVM017\": {},\n",
    "        \"GVM019\": {},\n",
    "        \"GVM031\": {},\n",
    "        \"GVM097\": {}\n",
    "    }\n",
    "}\n",
    "\n",
    "def separate(adir, algo):\n",
    "    conv={}\n",
    "    conv[0] = lambda s: float(s.strip() or 0)\n",
    "    x,y = np.loadtxt(adir, unpack=True, usecols=(0,1), converters=conv)\n",
    "    return (x,y)\n",
    "\n",
    "data_dir = \"/Akamai/voice/data/pitches/\"\n",
    "# data_dir_raw = \"/Akamai/voice/data/pitches-raw/\"\n",
    "\n",
    "dataRaw = deepcopy(data)\n",
    "for algorithm in sorted(os.listdir(data_dir)):\n",
    "    if algorithm in data:\n",
    "        for collection in sorted(os.listdir(f\"{data_dir}{algorithm}\")):\n",
    "            if collection != \"Scherbaum Mshavanadze\":\n",
    "                continue\n",
    "            for song in sorted(os.listdir(f\"{data_dir}{algorithm}/{collection}\")):\n",
    "                for location in sorted(os.listdir(f\"{data_dir}{algorithm}/{collection}/{song}\")):\n",
    "                    if (location[-4:] == '.txt'):\n",
    "                        x, y = separate(f\"{data_dir}{algorithm}/{collection}/{song}/{location}\", algo=algorithm)\n",
    "#                         xRaw, yRaw = separate(f\"{data_dir_raw}{algorithm}/{collection}/{song}/{location}\", algo=algorithm)\n",
    "                        \n",
    "                        data[algorithm][song[:6]][location[-7:-4]] = (x, y)  \n",
    "#                         dataRaw[algorithm][song[:6]][location[-7:-4]] = (xRaw, yRaw)  \n",
    "\n",
    "def graph (song):\n",
    "    pio.templates.default = \"plotly_dark\"\n",
    "    \n",
    "    fig = make_subplots(rows=1, cols=1)      \n",
    "    for key, val in data.items():\n",
    "        for location, dat in data[key][song].items():\n",
    "            if (location[0] == 'S' or location[0] == 'X') and location[1] != '5':\n",
    "                v = True if location[1] == '1' else False\n",
    "            \n",
    "                        \n",
    "                fig.append_trace(\n",
    "                    go.Scattergl(\n",
    "                        x = data[key][song][location][0],\n",
    "                        y = data[key][song][location][1],\n",
    "                        name=f\"{key}: {location}\",\n",
    "                        mode=\"markers\",\n",
    "                        visible=v\n",
    "                    ), 1, 1\n",
    "                )\n",
    "    \n",
    "#     for key, val in dataRaw.items():\n",
    "#         for location, dat in dataRaw[key][song].items():\n",
    "#             if (location[0] == 'S' or location[0] == 'X') and location[1] != '5':\n",
    "#                 v = True if location[1] == '1' else False\n",
    "            \n",
    "                        \n",
    "#                 fig.append_trace(\n",
    "#                     go.Scattergl(\n",
    "#                         x = dataRaw[key][song][location][0],\n",
    "#                         y = dataRaw[key][song][location][1],\n",
    "#                         name=f\"{key}-raw: {location}\",\n",
    "#                         mode=\"markers\",\n",
    "#                         visible=v\n",
    "#                     ), 1, 1\n",
    "#                 )\n",
    "\n",
    "    buttons = []\n",
    "    labels = ['Person 1', 'Person 2', 'Person 3']\n",
    "    for i, label in enumerate(labels):\n",
    "        visibility = [i==j for j in range(len(labels))]\n",
    "        print(visibility)\n",
    "        button = dict(\n",
    "            label = label,\n",
    "            method = \"update\",\n",
    "            args = [{ 'visible': visibility}]\n",
    "        )\n",
    "\n",
    "        buttons.append(button)\n",
    "\n",
    "    updatemenus = list([\n",
    "        dict(active=0,\n",
    "            buttons=buttons,\n",
    "            direction=\"down\",\n",
    "            pad={\"r\": 10, \"t\": 10},\n",
    "            showactive=True,\n",
    "            xanchor=\"left\",\n",
    "            yanchor=\"top\",\n",
    "            x = 0.005,\n",
    "            y = 1.06,\n",
    "        )\n",
    "    ])\n",
    "   \n",
    "    fig.update_layout(\n",
    "        legend=dict(\n",
    "        orientation=\"h\",\n",
    "        yanchor=\"bottom\",\n",
    "        y=1.02,\n",
    "        xanchor=\"right\",\n",
    "        x=1\n",
    "        ),\n",
    "        margin=dict(l=0, r=0, t=100, b=0)\n",
    "    )\n",
    "    \n",
    "\n",
    "    fig.update_traces(\n",
    "        marker=dict(size=3),\n",
    "        selector=dict(mode='markers')\n",
    "    )\n",
    "    \n",
    "\n",
    "    fig['layout']['title'] = song\n",
    "    fig['layout']['width'] = 900\n",
    "    fig['layout']['height'] = 500\n",
    "    fig['layout']['showlegend'] = True\n",
    "    fig['layout']['updatemenus'] = updatemenus\n",
    "\n",
    "    iplot(fig, filename=\"dropdown\")"
   ]
  },
  {
   "cell_type": "code",
   "execution_count": null,
   "metadata": {},
   "outputs": [],
   "source": [
    "graph('GVM009')"
   ]
  },
  {
   "cell_type": "code",
   "execution_count": null,
   "metadata": {},
   "outputs": [],
   "source": [
    "graph('GVM017')"
   ]
  },
  {
   "cell_type": "code",
   "execution_count": null,
   "metadata": {},
   "outputs": [],
   "source": [
    "graph('GVM019')"
   ]
  },
  {
   "cell_type": "code",
   "execution_count": null,
   "metadata": {},
   "outputs": [],
   "source": [
    "graph('GVM031')"
   ]
  },
  {
   "cell_type": "code",
   "execution_count": null,
   "metadata": {},
   "outputs": [],
   "source": [
    "graph('GVM097')"
   ]
  },
  {
   "cell_type": "markdown",
   "metadata": {},
   "source": [
    "### Teach Yourself Megrelian Songs"
   ]
  },
  {
   "cell_type": "code",
   "execution_count": null,
   "metadata": {},
   "outputs": [],
   "source": [
    "data2 = {}\n",
    "\n",
    "directories = [\"Ak'a Si Rekisho\",\n",
    "               \"Gepshvat Ghvini\", \n",
    "               \"Io _ Chkin Kiana\", \n",
    "               \"Mesishi Vardi\",\n",
    "               \"Meureme\", \n",
    "               \"Mi Re Sotsodali_\",\n",
    "               \"Mole Chit'i Gilakhe\",\n",
    "               \"O Da\", \n",
    "               \"Vojanudi Chkim Jargvals\"]\n",
    "\n",
    "algos = ['boersma', 'noll', 'crepe', 'maddox', 'hermes', 'yin'] # Note: later add praat\n",
    "\n",
    "for algo in algos:\n",
    "    data2[algo] = {}\n",
    "    for direct in directories:\n",
    "        data2[algo][direct] = {\n",
    "            \"mix\": {},\n",
    "            \"bass\": {},\n",
    "            \"middle\": {},\n",
    "            \"top\": {}\n",
    "        }\n",
    "\n",
    "\n",
    "def separate(adir, algo):\n",
    "    conv={}\n",
    "    conv[0] = lambda s: float(s.strip() or 0)\n",
    "    x,y = np.loadtxt(adir, unpack=True, usecols=(0,1), converters=conv)\n",
    "    return (x,y)\n",
    "\n",
    "data_dir = \"/Akamai/voice/data/pitches/\"\n",
    "\n",
    "for algorithm in sorted(os.listdir(data_dir)):\n",
    "    if algorithm in data2:\n",
    "        for collection in sorted(os.listdir(f\"{data_dir}{algorithm}\")):\n",
    "            if collection != \"Teach Yourself Megrelian Songs\":\n",
    "                continue\n",
    "            for song in sorted(os.listdir(f\"{data_dir}{algorithm}/{collection}\")):\n",
    "                for location in sorted(os.listdir(f\"{data_dir}{algorithm}/{collection}/{song}\")):\n",
    "                    if (location[-4:] == '.txt'):\n",
    "                        x, y = separate(f\"{data_dir}{algorithm}/{collection}/{song}/{location}\", algo=algorithm)\n",
    "                        \n",
    "                        if not 'AHDS' in location:\n",
    "                            data2[algorithm][song]['mix'] = (x, y)\n",
    "                        else:\n",
    "                            name_tag = location[(location.index('AHDS') + 3):(location.index('AHDS') + 6)]\n",
    "                            \n",
    "                            if name_tag[1] == '1':\n",
    "                                data2[algorithm][song]['bass'] = (x, y)\n",
    "                            elif name_tag[1] == '2':\n",
    "                                data2[algorithm][song]['middle'] = (x, y)\n",
    "                            else:\n",
    "                                data2[algorithm][song]['top'] = (x, y)\n",
    "                                \n",
    "                                \n",
    "def graph2 (song):\n",
    "    pio.templates.default = \"plotly_dark\"\n",
    "    \n",
    "    fig = make_subplots(rows=1, cols=1)\n",
    "    \n",
    "    type_list = []\n",
    "    for algo, collection in data2.items():\n",
    "        for name, part in collection.items():\n",
    "            for audio_type, res in part.items():\n",
    "                if name != song:\n",
    "                    continue\n",
    "                \n",
    "                try:\n",
    "                    fig.append_trace(\n",
    "                            go.Scattergl(\n",
    "                                x = res[0],\n",
    "                                y = res[1],\n",
    "                                name=f\"{algo}: {audio_type}\",\n",
    "                                mode=\"markers\",\n",
    "                                visible= (True if audio_type == \"bass\" else False)\n",
    "                            ), 1, 1\n",
    "                        )\n",
    "                    \n",
    "                    type_list.append(audio_type)\n",
    "                except:\n",
    "                    print(f\"{algo}: {audio_type} not available\")\n",
    "    \n",
    "    fig.update_layout(\n",
    "        legend=dict(\n",
    "        orientation=\"h\",\n",
    "        yanchor=\"bottom\",\n",
    "        y=1.02,\n",
    "        xanchor=\"right\",\n",
    "        x=1\n",
    "        ),\n",
    "        margin=dict(l=0, r=0, t=100, b=0)\n",
    "    )\n",
    "    \n",
    "    buttons = []\n",
    "    labels = ['bass', 'middle', 'top', 'mix']\n",
    "    for i, label in enumerate(labels):\n",
    "        visibility = [label==current_type for current_type in type_list]\n",
    "        button = dict(\n",
    "            label = label,\n",
    "            method = \"update\",\n",
    "            args = [{ 'visible': visibility}]\n",
    "        )\n",
    "\n",
    "        buttons.append(button)\n",
    "    \n",
    "    updatemenus = list([\n",
    "        dict(active=0,\n",
    "            buttons=buttons,\n",
    "            direction=\"down\",\n",
    "            pad={\"r\": 10, \"t\": 10},\n",
    "            showactive=True,\n",
    "            xanchor=\"left\",\n",
    "            yanchor=\"top\",\n",
    "            x = 0.005,\n",
    "            y = 1.06,\n",
    "        )\n",
    "    ])\n",
    "    \n",
    "\n",
    "    fig.update_traces(\n",
    "        marker=dict(size=3),\n",
    "        selector=dict(mode='markers')\n",
    "    )\n",
    "    \n",
    "\n",
    "    fig['layout']['title'] = song\n",
    "    fig['layout']['width'] = 900\n",
    "    fig['layout']['height'] = 500\n",
    "    fig['layout']['showlegend'] = True\n",
    "    fig['layout']['updatemenus'] = updatemenus\n",
    "\n",
    "    iplot(fig, filename=\"dropdown\")"
   ]
  },
  {
   "cell_type": "code",
   "execution_count": null,
   "metadata": {},
   "outputs": [],
   "source": [
    "graph2(\"Ak'a Si Rekisho\")             "
   ]
  },
  {
   "cell_type": "code",
   "execution_count": null,
   "metadata": {},
   "outputs": [],
   "source": [
    "graph2(\"Gepshvat Ghvini\")"
   ]
  },
  {
   "cell_type": "code",
   "execution_count": null,
   "metadata": {},
   "outputs": [],
   "source": [
    "graph2(\"Io _ Chkin Kiana\")"
   ]
  },
  {
   "cell_type": "code",
   "execution_count": null,
   "metadata": {},
   "outputs": [],
   "source": [
    "graph2(\"Mesishi Vardi\")"
   ]
  },
  {
   "cell_type": "code",
   "execution_count": null,
   "metadata": {},
   "outputs": [],
   "source": [
    "graph2(\"Meureme\")"
   ]
  },
  {
   "cell_type": "code",
   "execution_count": null,
   "metadata": {},
   "outputs": [],
   "source": [
    "graph2(\"Mi Re Sotsodali_\")"
   ]
  },
  {
   "cell_type": "code",
   "execution_count": null,
   "metadata": {},
   "outputs": [],
   "source": [
    "graph2(\"Mole Chit'i Gilakhe\")"
   ]
  },
  {
   "cell_type": "code",
   "execution_count": null,
   "metadata": {},
   "outputs": [],
   "source": [
    "graph2(\"O Da\")"
   ]
  },
  {
   "cell_type": "code",
   "execution_count": null,
   "metadata": {},
   "outputs": [],
   "source": [
    "graph2(\"Vojanudi Chkim Jargvals\")"
   ]
  },
  {
   "cell_type": "markdown",
   "metadata": {},
   "source": [
    "### Teach Yourself Gurian Songs"
   ]
  },
  {
   "cell_type": "code",
   "execution_count": null,
   "metadata": {},
   "outputs": [],
   "source": [
    "data3 = {}\n",
    "\n",
    "directories = [\"Adila-Alipasha\",\n",
    "\"Indi-Mindi\",\n",
    "'Mival Guriashi (1)' ,\n",
    "'Pikris Simghera',\n",
    "\"Alaverdi\",\n",
    "\"K'alos Khelkhvavi\",\n",
    "'Mival Guriashi (2)' , \n",
    "\"Sabodisho\",\n",
    "\"Khasanbegura\",     \n",
    "\"Mok'le Mravalzhamieri\",\n",
    "'Sadats Vshobilvar',\n",
    "\"Beri Ak'vans Epareba\", \n",
    "\"Lat'aris Simghera\",    \n",
    "\"Mts'vanesa Da Ukudosa\", \n",
    "\"Shermanduli\",\n",
    "\"Brevalo\",             \n",
    "\"Manana\",         \n",
    "'Nanina (1)',      \n",
    "\"Shvidk'atsa\",\n",
    "\"Chven-Mshvidoba\",    \n",
    "\"Maq'ruli\",               \n",
    "'Nanina (2)',          \n",
    "'Supris Khelkhvavi',\n",
    "'Didi Khnidan',     \n",
    "\"Masp'indzelsa Mkhiarulsa\", \n",
    "\"Orira\",                \n",
    "\"Ts'amok'ruli\",\n",
    "\"Gakhsovs, T'urpa\",\n",
    "\"Me-Rustveli\",        \n",
    "\"P'at'ara Saq'varelo\"]\n",
    "\n",
    "algos = ['boersma', 'noll', 'crepe', 'maddox', 'hermes'] # Note: later add praat and yin\n",
    "\n",
    "for algo in algos:\n",
    "    data3[algo] = {}\n",
    "    for direct in directories:\n",
    "        data3[algo][direct] = {\n",
    "            \"mix\": {},\n",
    "            \"bass\": {},\n",
    "            \"middle\": {},\n",
    "            \"top\": {}\n",
    "        }\n",
    "\n",
    "\n",
    "def separate(adir, algo):\n",
    "    conv={}\n",
    "    conv[0] = lambda s: float(s.strip() or 0)\n",
    "    x,y = np.loadtxt(adir, unpack=True, usecols=(0,1), converters=conv)\n",
    "    return (x,y)\n",
    "\n",
    "data_dir = \"/Akamai/voice/data/pitches/\"\n",
    "\n",
    "for algorithm in sorted(os.listdir(data_dir)):\n",
    "    if algorithm in data3:\n",
    "        for collection in sorted(os.listdir(f\"{data_dir}{algorithm}\")):\n",
    "            if collection != \"Teach Yourself Gurian Songs\":\n",
    "                continue\n",
    "            for song in sorted(os.listdir(f\"{data_dir}{algorithm}/{collection}\")):\n",
    "                for location in sorted(os.listdir(f\"{data_dir}{algorithm}/{collection}/{song}\")):\n",
    "                    if (location[-4:] == '.txt'):\n",
    "                        x, y = separate(f\"{data_dir}{algorithm}/{collection}/{song}/{location}\", algo=algorithm)\n",
    "                        \n",
    "                        if not 'AHDS' in location:\n",
    "                            data3[algorithm][song]['mix'] = (x, y)\n",
    "                        else:\n",
    "                            name_tag = location[(location.index('AHDS') + 3):(location.index('AHDS') + 6)]\n",
    "                            \n",
    "                            if name_tag[1] == '1':\n",
    "                                data3[algorithm][song]['bass'] = (x, y)\n",
    "                            elif name_tag[1] == '2':\n",
    "                                data3[algorithm][song]['middle'] = (x, y)\n",
    "                            else:\n",
    "                                data3[algorithm][song]['top'] = (x, y)\n",
    "\n",
    "def graph3 (song):\n",
    "    pio.templates.default = \"plotly_dark\"\n",
    "    \n",
    "    fig = make_subplots(rows=1, cols=1)\n",
    "    \n",
    "    type_list = []\n",
    "    for algo, collection in data3.items():\n",
    "        for name, part in collection.items():\n",
    "            for audio_type, res in part.items():\n",
    "                if name != song:\n",
    "                    continue\n",
    "                \n",
    "                try:\n",
    "                    fig.append_trace(\n",
    "                            go.Scattergl(\n",
    "                                x = res[0],\n",
    "                                y = res[1],\n",
    "                                name=f\"{algo}: {audio_type}\",\n",
    "                                mode=\"markers\",\n",
    "                                visible= (True if audio_type == \"bass\" else False)\n",
    "                            ), 1, 1\n",
    "                        )\n",
    "                    \n",
    "                    type_list.append(audio_type)\n",
    "                except:\n",
    "                    print(f\"{algo}: {audio_type} not available\")\n",
    "    \n",
    "    fig.update_layout(\n",
    "        legend=dict(\n",
    "        orientation=\"h\",\n",
    "        yanchor=\"bottom\",\n",
    "        y=1.02,\n",
    "        xanchor=\"right\",\n",
    "        x=1\n",
    "        ),\n",
    "        margin=dict(l=0, r=0, t=100, b=0)\n",
    "    )\n",
    "    \n",
    "    buttons = []\n",
    "    labels = ['bass', 'middle', 'top', 'mix']\n",
    "    for i, label in enumerate(labels):\n",
    "        visibility = [label==current_type for current_type in type_list]\n",
    "        button = dict(\n",
    "            label = label,\n",
    "            method = \"update\",\n",
    "            args = [{ 'visible': visibility}]\n",
    "        )\n",
    "\n",
    "        buttons.append(button)\n",
    "    \n",
    "    updatemenus = list([\n",
    "        dict(active=0,\n",
    "            buttons=buttons,\n",
    "            direction=\"down\",\n",
    "            pad={\"r\": 10, \"t\": 10},\n",
    "            showactive=True,\n",
    "            xanchor=\"left\",\n",
    "            yanchor=\"top\",\n",
    "            x = 0.005,\n",
    "            y = 1.06,\n",
    "        )\n",
    "    ])\n",
    "    \n",
    "\n",
    "    fig.update_traces(\n",
    "        marker=dict(size=3),\n",
    "        selector=dict(mode='markers')\n",
    "    )\n",
    "    \n",
    "\n",
    "    fig['layout']['title'] = song\n",
    "    fig['layout']['width'] = 900\n",
    "    fig['layout']['height'] = 500\n",
    "    fig['layout']['showlegend'] = True\n",
    "    fig['layout']['updatemenus'] = updatemenus\n",
    "\n",
    "    iplot(fig, filename=\"dropdown\")"
   ]
  },
  {
   "cell_type": "code",
   "execution_count": null,
   "metadata": {},
   "outputs": [],
   "source": [
    "graph3(\"Adila-Alipasha\")"
   ]
  },
  {
   "cell_type": "code",
   "execution_count": null,
   "metadata": {
    "scrolled": false
   },
   "outputs": [],
   "source": [
    "graph3(\"Indi-Mindi\")"
   ]
  },
  {
   "cell_type": "code",
   "execution_count": null,
   "metadata": {},
   "outputs": [],
   "source": [
    "graph3('Mival Guriashi (1)' )"
   ]
  },
  {
   "cell_type": "code",
   "execution_count": null,
   "metadata": {},
   "outputs": [],
   "source": [
    "graph3('Pikris Simghera')"
   ]
  },
  {
   "cell_type": "code",
   "execution_count": null,
   "metadata": {},
   "outputs": [],
   "source": [
    "graph3(\"Alaverdi\")"
   ]
  },
  {
   "cell_type": "code",
   "execution_count": null,
   "metadata": {},
   "outputs": [],
   "source": [
    "graph3(\"K'alos Khelkhvavi\")"
   ]
  },
  {
   "cell_type": "code",
   "execution_count": null,
   "metadata": {},
   "outputs": [],
   "source": [
    "graph3('Mival Guriashi (2)' )"
   ]
  },
  {
   "cell_type": "code",
   "execution_count": null,
   "metadata": {},
   "outputs": [],
   "source": [
    "graph3(\"Sabodisho\")"
   ]
  },
  {
   "cell_type": "code",
   "execution_count": null,
   "metadata": {},
   "outputs": [],
   "source": [
    "graph3(\"Khasanbegura\")"
   ]
  },
  {
   "cell_type": "code",
   "execution_count": null,
   "metadata": {},
   "outputs": [],
   "source": [
    "graph3(\"Mok'le Mravalzhamieri\")"
   ]
  },
  {
   "cell_type": "code",
   "execution_count": null,
   "metadata": {},
   "outputs": [],
   "source": [
    "graph3('Sadats Vshobilvar')"
   ]
  },
  {
   "cell_type": "code",
   "execution_count": null,
   "metadata": {},
   "outputs": [],
   "source": [
    "graph3(\"Beri Ak'vans Epareba\")"
   ]
  },
  {
   "cell_type": "code",
   "execution_count": null,
   "metadata": {},
   "outputs": [],
   "source": [
    "graph3(\"Lat'aris Simghera\")"
   ]
  },
  {
   "cell_type": "code",
   "execution_count": null,
   "metadata": {},
   "outputs": [],
   "source": [
    "graph3(\"Mts'vanesa Da Ukudosa\")"
   ]
  },
  {
   "cell_type": "code",
   "execution_count": null,
   "metadata": {},
   "outputs": [],
   "source": [
    "graph3(\"Shermanduli\")"
   ]
  },
  {
   "cell_type": "code",
   "execution_count": null,
   "metadata": {},
   "outputs": [],
   "source": [
    "graph3(\"Brevalo\")"
   ]
  },
  {
   "cell_type": "code",
   "execution_count": null,
   "metadata": {},
   "outputs": [],
   "source": [
    "graph3(\"Manana\")"
   ]
  },
  {
   "cell_type": "code",
   "execution_count": null,
   "metadata": {},
   "outputs": [],
   "source": [
    "graph3('Nanina (1)')"
   ]
  },
  {
   "cell_type": "code",
   "execution_count": null,
   "metadata": {},
   "outputs": [],
   "source": [
    "graph3(\"Shvidk'atsa\")"
   ]
  },
  {
   "cell_type": "code",
   "execution_count": null,
   "metadata": {},
   "outputs": [],
   "source": [
    "graph3(\"Chven-Mshvidoba\")"
   ]
  },
  {
   "cell_type": "code",
   "execution_count": null,
   "metadata": {},
   "outputs": [],
   "source": [
    "graph3(\"Maq'ruli\")"
   ]
  },
  {
   "cell_type": "code",
   "execution_count": null,
   "metadata": {},
   "outputs": [],
   "source": [
    "graph3('Nanina (2)')"
   ]
  },
  {
   "cell_type": "code",
   "execution_count": null,
   "metadata": {},
   "outputs": [],
   "source": [
    "graph3('Supris Khelkhvavi')"
   ]
  },
  {
   "cell_type": "code",
   "execution_count": null,
   "metadata": {},
   "outputs": [],
   "source": [
    "graph3('Didi Khnidan')"
   ]
  },
  {
   "cell_type": "code",
   "execution_count": null,
   "metadata": {},
   "outputs": [],
   "source": [
    "graph3(\"Masp'indzelsa Mkhiarulsa\")"
   ]
  },
  {
   "cell_type": "code",
   "execution_count": null,
   "metadata": {},
   "outputs": [],
   "source": [
    "graph3(\"Orira\")"
   ]
  },
  {
   "cell_type": "code",
   "execution_count": null,
   "metadata": {},
   "outputs": [],
   "source": [
    "graph3(\"Ts'amok'ruli\")"
   ]
  },
  {
   "cell_type": "code",
   "execution_count": null,
   "metadata": {},
   "outputs": [],
   "source": [
    "graph3(\"Gakhsovs, T'urpa\")"
   ]
  },
  {
   "cell_type": "code",
   "execution_count": null,
   "metadata": {},
   "outputs": [],
   "source": [
    "graph3(\"Me-Rustveli\")"
   ]
  },
  {
   "cell_type": "code",
   "execution_count": null,
   "metadata": {},
   "outputs": [],
   "source": [
    "graph3(\"P'at'ara Saq'varelo\")"
   ]
  }
 ],
 "metadata": {
  "kernelspec": {
   "display_name": "Python 3",
   "language": "python",
   "name": "python3"
  },
  "language_info": {
   "codemirror_mode": {
    "name": "ipython",
    "version": 3
   },
   "file_extension": ".py",
   "mimetype": "text/x-python",
   "name": "python",
   "nbconvert_exporter": "python",
   "pygments_lexer": "ipython3",
   "version": "3.7.6"
  }
 },
 "nbformat": 4,
 "nbformat_minor": 4
}
