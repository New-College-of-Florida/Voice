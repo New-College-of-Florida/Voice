{
 "cells": [
  {
   "cell_type": "markdown",
   "metadata": {},
   "source": [
    "## Labeling notes in the Scherbaum-Mshavanadze Dataset"
   ]
  },
  {
   "cell_type": "markdown",
   "metadata": {},
   "source": [
    "### Description of the Data\n",
    "\n",
    "The dataset consists of five songs, each with three voices. There are \n",
    "- two mics recording the whole song\n",
    "- a headset mic for each singer (which picks up the other singers a little)\n",
    "- a larynx mic for each singer, which picks up only the fundamental frequency of the singer (through the vibrations of the vocal cords).\n",
    "- video at this [Web site](https://www.audiolabs-erlangen.de/resources/MIR/2018-ISMIR-LBD-ThroatMics)\n",
    "\n",
    "The songs are in `/Akamai/voice/data/Scherbaum Mshavanadze/Song_name/`.\n",
    "In that folder is an html file page.txt that describes the data:"
   ]
  },
  {
   "cell_type": "code",
   "execution_count": 7,
   "metadata": {
    "scrolled": false
   },
   "outputs": [],
   "source": [
    "from html.parser import HTMLParser\n",
    "import os\n",
    "import re\n",
    "import scipy.signal\n",
    "import scipy.fft\n",
    "import librosa\n",
    "import numpy as np\n",
    "import matplotlib.pyplot as plt\n",
    "\n",
    "new_track = False\n",
    "class MyHTMLParser(HTMLParser):\n",
    "    def __init__ (self):\n",
    "        HTMLParser.__init__(self)\n",
    "        self.data = []\n",
    "\n",
    "    def handle_starttag(self, tag, attrs):\n",
    "        new_track = True\n",
    "        if tag == \"track-wrap\":\n",
    "            for key, val in attrs:\n",
    "                if key == \"title\":\n",
    "                    self.data.append(val)\n",
    "        if tag == \"video\":\n",
    "            self.data.append(\"video\")\n",
    "        if tag == \"source\":\n",
    "            for key, val in attrs:\n",
    "                if key == \"src\":\n",
    "                    self.data.append(os.path.basename(val))\n",
    "\n",
    "    def handle_endtag(self, tag):\n",
    "        if tag == \"track-wrap\" or tag == \"video\":\n",
    "            new_track = False\n",
    "\n",
    "    def handle_data(self, data):\n",
    "        pass\n",
    "    \n",
    "    def get_data (self):\n",
    "        return zip(self.data, self.data[1:] + self.data[:1])\n",
    "\n",
    "html = open('/Akamai/voice/data/Scherbaum Mshavanadze/GVM017_ChvenMshvidobaTake2_Ozurgeti_ShalvaChemo2016_20160713/page.txt').read()\n",
    "parser = MyHTMLParser()\n",
    "parser.feed(html)\n"
   ]
  },
  {
   "cell_type": "markdown",
   "metadata": {},
   "source": [
    "### The Labeling Task\n",
    "\n",
    "Use the short-time Fourier Transform on the throat microphone to record the fundamental frequency at each time window."
   ]
  },
  {
   "cell_type": "code",
   "execution_count": 8,
   "metadata": {
    "scrolled": true
   },
   "outputs": [],
   "source": [
    "data_dir = '/Akamai/voice/data/Scherbaum Mshavanadze/GVM009_BatonebisNanina_Tbilisi_Mzetamze_20160919/'\n",
    "all_files = list(filter(lambda x: re.search(\"Throat microphone [0-9]+\", x[0]), parser.get_data()))\n"
   ]
  },
  {
   "cell_type": "code",
   "execution_count": 9,
   "metadata": {
    "scrolled": true
   },
   "outputs": [
    {
     "name": "stdout",
     "output_type": "stream",
     "text": [
      "GVM017_ChvenMshvidobaTake2_Ozurgeti_ShalvaChemo2016_20160713_ALRX1M.mp3\n",
      "GVM017_ChvenMshvidobaTake2_Ozurgeti_ShalvaChemo2016_20160713_ALRX2M.mp3\n",
      "GVM017_ChvenMshvidobaTake2_Ozurgeti_ShalvaChemo2016_20160713_ALRX3M.mp3\n"
     ]
    }
   ],
   "source": [
    "def generate_stft (cy, csr, title):\n",
    "    f, t, Zxx = scipy.signal.stft(cy, csr)\n",
    "    f = f[:15]\n",
    "    Zxx = Zxx[:15, :]\n",
    "    plt.figure(figsize=(10, 5))\n",
    "    plt.pcolormesh(t, f, np.abs(Zxx), shading='gouraud')\n",
    "    plt.title(title)\n",
    "    plt.ylabel('Frequency [Hz]')\n",
    "    plt.xlabel('Time [sec]')\n",
    "    plt.show()\n",
    "    \n",
    "for i, file in enumerate(all_files):\n",
    "#     y, sr = librosa.load(data_dir + file[1])\n",
    "    print(file[1])\n",
    "#     generate_stft(y, sr, \"Throat \" + str(i + 1))"
   ]
  },
  {
   "cell_type": "code",
   "execution_count": null,
   "metadata": {},
   "outputs": [],
   "source": []
  }
 ],
 "metadata": {
  "kernelspec": {
   "display_name": "Python 3",
   "language": "python",
   "name": "python3"
  },
  "language_info": {
   "codemirror_mode": {
    "name": "ipython",
    "version": 3
   },
   "file_extension": ".py",
   "mimetype": "text/x-python",
   "name": "python",
   "nbconvert_exporter": "python",
   "pygments_lexer": "ipython3",
   "version": "3.7.6"
  }
 },
 "nbformat": 4,
 "nbformat_minor": 4
}
