{
 "cells": [
  {
   "cell_type": "code",
   "execution_count": 1,
   "metadata": {},
   "outputs": [],
   "source": [
    "import os\n",
    "import librosa"
   ]
  },
  {
   "cell_type": "markdown",
   "metadata": {},
   "source": [
    "### Scherbaum Mshavanadze"
   ]
  },
  {
   "cell_type": "code",
   "execution_count": null,
   "metadata": {},
   "outputs": [],
   "source": [
    "def recursive_conversion (path):\n",
    "    for file in os.listdir(path):\n",
    "        if os.path.isdir(f\"{path}/{file}\"):\n",
    "            recursive_conversion(f\"{path}/{file}\")\n",
    "        elif file[-3:] == 'mp3':\n",
    "            print((file)[:-3] + 'wav')\n",
    "            y, sr = librosa.load(f\"{path}/{file}\", sr=None)\n",
    "            librosa.output.write_wav((path + '/' + file)[:-3] + 'wav', y, sr)\n",
    "\n",
    "# data_dir = '/Akamai/voice/data/Scherbaum Mshavanadze/'\n",
    "# recursive_conversion(data_dir)"
   ]
  },
  {
   "cell_type": "markdown",
   "metadata": {},
   "source": [
    "### Teach Yourself Megrelian Songs"
   ]
  },
  {
   "cell_type": "code",
   "execution_count": null,
   "metadata": {},
   "outputs": [],
   "source": [
    "def modify_name (name):\n",
    "    audio_type = name[name.index('(')+1:name.index(')')]\n",
    "    if audio_type == 'mix':\n",
    "        return name[:name.index('(')-1] + '.wav'\n",
    "    elif audio_type == 'bass':\n",
    "        return name[:name.index('(')-1] + '_AHDS1M.wav'\n",
    "    elif audio_type == 'middle':\n",
    "        return name[:name.index('(')-1] + '_AHDS2M.wav'\n",
    "    else:\n",
    "        return name[:name.index('(')-1] + '_AHDS3M.wav'\n",
    "    \n",
    "def root_name (name):\n",
    "    return name[:name.index('(')-1]\n",
    "\n",
    "def recursive_conversion_teach (path):\n",
    "    for file in os.listdir(path):\n",
    "        if os.path.isdir(f\"{path}/{file}\"):\n",
    "            recursive_conversion_teach(f\"{path}/{file}\")\n",
    "        elif file[-3:] == 'mp3':\n",
    "            y, sr = librosa.load(f\"{path}/{file}\", sr=None)\n",
    "            name = modify_name(file)\n",
    "            librosa.output.write_wav(path + '/../' + root_name(file) + '/' + name, y, sr)\n",
    "\n",
    "# recursive_conversion_teach('/Akamai/voice/data/Teach Yourself Megrelian Songs/')"
   ]
  },
  {
   "cell_type": "markdown",
   "metadata": {},
   "source": [
    "### Teach Yourself Megrelian Songs"
   ]
  },
  {
   "cell_type": "code",
   "execution_count": null,
   "metadata": {},
   "outputs": [],
   "source": [
    "def modify_name (name):\n",
    "    s = None; e = None;\n",
    "    for i in range(len(name)-2, 0, -1):\n",
    "        if name[i] == '.': e = i;\n",
    "        elif name[i:i+2] == '- ':\n",
    "            s = i\n",
    "            break\n",
    "            \n",
    "    if s == None: return \".wav\";\n",
    "    \n",
    "    audio_type = name[s+2:e]\n",
    "    \n",
    "    if audio_type == 'bass': return \"_AHDS1M.wav\";\n",
    "    elif audio_type == 'middle': return '_AHDS2M.wav';\n",
    "    else: return \"_AHDS3M.wav\";\n",
    "        \n",
    "def root_name (name):\n",
    "    s = None; e = None\n",
    "    for i in range(len(name)-2, 0, -1):\n",
    "        if name[i] == '.': e = i;\n",
    "        elif name[i:i+2] == '- ': \n",
    "            s = i\n",
    "            break\n",
    "    \n",
    "    if s == None: return name[:e];\n",
    "    else: return name[:s-1];\n",
    "\n",
    "def recursive_conversion_teach (path):\n",
    "    for file in os.listdir(path):\n",
    "        if os.path.isdir(f\"{path}/{file}\"):\n",
    "            recursive_conversion_teach(f\"{path}/{file}\")\n",
    "        elif file[-3:] == 'mp3':\n",
    "            y, sr = librosa.load(f\"{path}/{file}\", sr=None)\n",
    "            new_path = f\"{path}/{root_name(file)}{modify_name(file)}\"\n",
    "            librosa.output.write_wav(new_path, y, sr)\n",
    "\n",
    "# recursive_conversion_teach('/Akamai/voice/data/Teach Yourself Gurian Songs')"
   ]
  }
 ],
 "metadata": {
  "kernelspec": {
   "display_name": "Python 3",
   "language": "python",
   "name": "python3"
  },
  "language_info": {
   "codemirror_mode": {
    "name": "ipython",
    "version": 3
   },
   "file_extension": ".py",
   "mimetype": "text/x-python",
   "name": "python",
   "nbconvert_exporter": "python",
   "pygments_lexer": "ipython3",
   "version": "3.7.6"
  }
 },
 "nbformat": 4,
 "nbformat_minor": 4
}
