{
 "cells": [
  {
   "cell_type": "markdown",
   "metadata": {},
   "source": [
    "### Here's a Markdown [cheatsheet](https://medium.com/ibm-data-science-experience/markdown-for-jupyter-notebooks-cheatsheet-386c05aeebed)\n"
   ]
  },
  {
   "cell_type": "code",
   "execution_count": 1,
   "metadata": {},
   "outputs": [],
   "source": [
    "import numpy as np\n",
    "import matplotlib.pyplot as plt\n"
   ]
  },
  {
   "cell_type": "markdown",
   "metadata": {},
   "source": [
    "## Read part of a wav file with Librosa.\n",
    "\n",
    "### librosa `load()` parameters:\n",
    "-    `sr`: use sr=None to preserve the \"native\" rate of the file\n",
    "-    `offset` and `duration` are measured in **seconds**\n",
    "    -    one channel = mono, two = stereo\n",
    "-    `mono`: librosa converts to mono by default\n",
    "    -    as you can see in the next cell, conversion from stereo to mono averages the two channels\n",
    "\n",
    "### librosa `load()` return value (a pair):\n",
    "-    a waveform `y`: a numpy.ndarry of dimension (n,) or **(2,n)**\n",
    "    -  note: each channel is one **row**\n",
    "    -  it appears that by default, each sample is a float in the range (-1, 1)\n",
    "-    the sampling rate `sr`\n"
   ]
  },
  {
   "cell_type": "code",
   "execution_count": 2,
   "metadata": {},
   "outputs": [
    {
     "name": "stdout",
     "output_type": "stream",
     "text": [
      "Stereo\n",
      "(2, 882000)\n",
      "[[-6.1035156e-05 -1.2207031e-04 -6.1035156e-05 -9.1552734e-05\n",
      "  -9.1552734e-05 -9.1552734e-05 -3.0517578e-05 -6.1035156e-05\n",
      "  -9.1552734e-05 -6.1035156e-05]\n",
      " [-6.1035156e-05 -9.1552734e-05 -9.1552734e-05 -9.1552734e-05\n",
      "  -9.1552734e-05 -6.1035156e-05 -3.0517578e-05 -6.1035156e-05\n",
      "  -9.1552734e-05 -3.0517578e-05]]\n",
      "\n",
      "Average of stereo channels\n",
      "[-6.1035156e-05 -1.0681152e-04 -7.6293945e-05 -9.1552734e-05\n",
      " -9.1552734e-05 -7.6293945e-05 -3.0517578e-05 -6.1035156e-05\n",
      " -9.1552734e-05 -4.5776367e-05]\n",
      "\n",
      "Mono\n",
      "(882000,)\n",
      "[-6.1035156e-05 -1.0681152e-04 -7.6293945e-05 -9.1552734e-05\n",
      " -9.1552734e-05 -7.6293945e-05 -3.0517578e-05 -6.1035156e-05\n",
      " -9.1552734e-05 -4.5776367e-05]\n"
     ]
    }
   ],
   "source": [
    "import librosa\n",
    "\n",
    "#    read both channels of a stereo wav file\n",
    "#\n",
    "offset=0.0 # seconds\n",
    "duration=20.0 # seconds\n",
    "ylib_stereo, srlib_stereo = librosa.load('/Akamai/voice/data/Basiani/01 Mravalzhamier - Table Song, Kakheti.wav', \n",
    "                     mono=False, sr=None, offset=offset, duration=duration)\n",
    "\n",
    "start_sample=1000\n",
    "num_samples=10\n",
    "print('Stereo')\n",
    "print(ylib_stereo.shape)\n",
    "print(ylib_stereo[:,start_sample:start_sample+num_samples])\n",
    "\n",
    "# average the two channels\n",
    "#\n",
    "print('\\nAverage of stereo channels')\n",
    "z = np.add(np.ndarray.flatten(ylib_stereo[0,start_sample:start_sample+num_samples]), \n",
    "           np.ndarray.flatten(ylib_stereo[1,start_sample:start_sample+num_samples]))/2\n",
    "print(z)\n",
    "\n",
    "\n",
    "#    read mono from a stereo wav file\n",
    "#\n",
    "ylib, srlib = librosa.load('/Akamai/voice/data/Basiani/01 Mravalzhamier - Table Song, Kakheti.wav', \n",
    "                     mono=True, sr=None, offset=0.0, duration=20)\n",
    "\n",
    "print('\\nMono')\n",
    "print(ylib.shape)\n",
    "print(ylib[start_sample:start_sample+num_samples])"
   ]
  },
  {
   "cell_type": "markdown",
   "metadata": {},
   "source": [
    "## Read part of a wav file with Soundfile.\n",
    "### soundfile `read()` parameters:\n",
    "-    `samplerate`: use samplerate=None (the default) to preserve the \"native\" rate of the file\n",
    "-    `start` and `frames` are measured in **frames** (not seconds): one frame is one sample of each *channel* \n",
    "    -    one channel = mono, two = stereo\n",
    "\n",
    "### soundfile `read()` return value (a pair):\n",
    "-    a waveform `y`: a numpy.ndarry of dimension (n,) or **(n,2)**\n",
    "    -  note: each channel is one **column**\n",
    "    -  by default, each sample is a float in the range (-1, 1)\n",
    "-    the sampling rate `sr`\n"
   ]
  },
  {
   "cell_type": "code",
   "execution_count": 3,
   "metadata": {},
   "outputs": [
    {
     "name": "stdout",
     "output_type": "stream",
     "text": [
      "(882000, 2)\n",
      "[[-6.10351562e-05 -6.10351562e-05]\n",
      " [-1.22070312e-04 -9.15527344e-05]\n",
      " [-6.10351562e-05 -9.15527344e-05]\n",
      " [-9.15527344e-05 -9.15527344e-05]\n",
      " [-9.15527344e-05 -9.15527344e-05]\n",
      " [-9.15527344e-05 -6.10351562e-05]\n",
      " [-3.05175781e-05 -3.05175781e-05]\n",
      " [-6.10351562e-05 -6.10351562e-05]\n",
      " [-9.15527344e-05 -9.15527344e-05]\n",
      " [-6.10351562e-05 -3.05175781e-05]]\n"
     ]
    }
   ],
   "source": [
    "import soundfile\n",
    "\n",
    "start=int(offset)*srlib\n",
    "frames=int(duration)*srlib\n",
    "\n",
    "ysf, srsf = soundfile.read('/Akamai/voice/data/Basiani/01 Mravalzhamier - Table Song, Kakheti.wav', \n",
    "                       samplerate=None, start=start, frames=frames)\n",
    "\n",
    "print(ysf.shape)\n",
    "print(ysf[start_sample:start_sample+num_samples])"
   ]
  },
  {
   "cell_type": "markdown",
   "metadata": {},
   "source": [
    "## Write both input segments to files using soundfile `write()`\n",
    "\n",
    "### Note: Librosa `write_wav()` is *deprecated*, meaning it will be removed from the library soon.\n",
    "\n",
    "#### First, write the segment read with Soundfile"
   ]
  },
  {
   "cell_type": "code",
   "execution_count": 13,
   "metadata": {},
   "outputs": [
    {
     "name": "stdout",
     "output_type": "stream",
     "text": [
      "(882000, 2)\n"
     ]
    }
   ],
   "source": [
    "file = '/Akamai/voice/data/Basiani/01 Mravalzhamier/' + str(offset) + '-' + str(offset+duration) + '.wav'\n",
    "print(ysf.shape)\n",
    "soundfile.write(file, ysf, srsf)\n"
   ]
  },
  {
   "cell_type": "markdown",
   "metadata": {},
   "source": [
    "#### Second, write the segment read with Librosa, after transposing it."
   ]
  },
  {
   "cell_type": "code",
   "execution_count": 12,
   "metadata": {},
   "outputs": [
    {
     "name": "stdout",
     "output_type": "stream",
     "text": [
      "(882000,)\n"
     ]
    }
   ],
   "source": [
    "file = '/Akamai/voice/data/Basiani/01 Mravalzhamier/' + str(offset) + '-' + str(offset+duration) + '.lib.wav'\n",
    "print(ylib_stereo.T.shape)\n",
    "soundfile.write(file, ylib_stereo.T, srlib)\n"
   ]
  },
  {
   "cell_type": "markdown",
   "metadata": {},
   "source": [
    "#### Read an mp3 with Librosa, and write it as a wav."
   ]
  },
  {
   "cell_type": "code",
   "execution_count": 7,
   "metadata": {},
   "outputs": [
    {
     "name": "stderr",
     "output_type": "stream",
     "text": [
      "/opt/anaconda3/lib/python3.7/site-packages/librosa/core/audio.py:161: UserWarning: PySoundFile failed. Trying audioread instead.\n",
      "  warnings.warn('PySoundFile failed. Trying audioread instead.')\n"
     ]
    },
    {
     "name": "stdout",
     "output_type": "stream",
     "text": [
      "(882000, 2)\n"
     ]
    }
   ],
   "source": [
    "from os.path import join, splitext\n",
    "\n",
    "file = join('/Akamai/voice/data/', 'Scherbaum Mshavanadze/')\n",
    "file = join(file, 'GVM009_BatonebisNanina_Tbilisi_Mzetamze_20160919')\n",
    "file = join(file, 'GVM009_BatonebisNanina_Tbilisi_Mzetamze_20160919_AHDS1M.mp3')\n",
    "y_mp3, sr_mp3 = librosa.load(file, sr=None)\n",
    "print(ylib_stereo.T.shape)\n",
    "soundfile.write(splitext(file)[0] + '.wav', y_mp3.T, sr_mp3)\n",
    "\n"
   ]
  },
  {
   "cell_type": "code",
   "execution_count": null,
   "metadata": {},
   "outputs": [],
   "source": []
  }
 ],
 "metadata": {
  "kernelspec": {
   "display_name": "Python 3",
   "language": "python",
   "name": "python3"
  },
  "language_info": {
   "codemirror_mode": {
    "name": "ipython",
    "version": 3
   },
   "file_extension": ".py",
   "mimetype": "text/x-python",
   "name": "python",
   "nbconvert_exporter": "python",
   "pygments_lexer": "ipython3",
   "version": "3.7.6"
  }
 },
 "nbformat": 4,
 "nbformat_minor": 4
}
