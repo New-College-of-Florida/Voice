{
 "cells": [
  {
   "cell_type": "markdown",
   "metadata": {},
   "source": [
    "### Choose a Georgian song and play all three parts"
   ]
  },
  {
   "cell_type": "markdown",
   "metadata": {},
   "source": [
    "### Get Data.\n",
    "\n",
    "#### Create an html parser to read the directory manifest"
   ]
  },
  {
   "cell_type": "code",
   "execution_count": null,
   "metadata": {},
   "outputs": [],
   "source": [
    "from html.parser import HTMLParser\n",
    "from os.path import basename\n",
    "\n",
    "new_track = False\n",
    "class MyHTMLParser(HTMLParser):\n",
    "    def __init__ (self):\n",
    "        HTMLParser.__init__(self)\n",
    "        self.data = []\n",
    "\n",
    "    def handle_starttag(self, tag, attrs):\n",
    "        new_track = True\n",
    "        if tag == \"track-wrap\":\n",
    "            for key, val in attrs:\n",
    "                if key == \"title\":\n",
    "                    self.data.append(val)\n",
    "        if tag == \"video\":\n",
    "            self.data.append(\"video\")\n",
    "        if tag == \"source\":\n",
    "            for key, val in attrs:\n",
    "                if key == \"src\":\n",
    "                    self.data.append(basename(val))\n",
    "\n",
    "    def handle_endtag(self, tag):\n",
    "        if tag == \"track-wrap\" or tag == \"video\":\n",
    "            new_track = False\n",
    "\n",
    "    def handle_data(self, data):\n",
    "        pass\n",
    "    \n",
    "    def get_data (self):\n",
    "        return zip(self.data, self.data[1:] + self.data[:1])\n",
    "\n"
   ]
  },
  {
   "cell_type": "markdown",
   "metadata": {},
   "source": [
    "### Get all the files in one Collection/Song directory."
   ]
  },
  {
   "cell_type": "code",
   "execution_count": null,
   "metadata": {},
   "outputs": [],
   "source": [
    "import librosa\n",
    "import re\n",
    "from os import listdir\n",
    "from os.path import isdir, join, splitext, exists, dirname\n",
    "\n",
    "def getFiles(coll, sd, wav=False, debug=0):\n",
    "    files = dict()\n",
    "    if coll == \"Scherbaum Mshavanadze\":\n",
    "        html= open(join(root, coll, sd, 'page.txt')).read()\n",
    "        parser = MyHTMLParser()\n",
    "        parser.feed(html)\n",
    "        files['throat'] = [f[1] for f in \\\n",
    "                           list(filter(lambda x: re.search(\"Throat microphone [0-9]+\", x[0]), parser.get_data()))]\n",
    "        files['headset'] = [f[1] for f in \\\n",
    "                            list(filter(lambda x: re.search(\"Headset microphone [0-9]+\", x[0]), parser.get_data()))]\n",
    "        \n",
    "        # For S-M, bass = 3, top = 1\n",
    "        files['throat'].reverse()\n",
    "        files['headset'].reverse()\n",
    "    else:\n",
    "        suffixes = dict()\n",
    "        suffixes[\"Teach Yourself Megrelian Songs\"] = [\" (bass)\", \" (middle)\", \" (top)\"]\n",
    "        suffixes[\"Teach Yourself Gurian Songs\"] = [\" - bass\", \" - middle\", \" - top\"]\n",
    "        files['headset'] = [sd + suff + \".mp3\" for suff in suffixes[coll]]\n",
    "\n",
    "        if coll == \"Teach Yourself Megrelian Songs\":\n",
    "            sd = \"mp3\"\n",
    "\n",
    "    return (sd, files)\n",
    "    \n"
   ]
  },
  {
   "cell_type": "code",
   "execution_count": null,
   "metadata": {
    "scrolled": true
   },
   "outputs": [],
   "source": [
    "%%capture --no-stdout --no-display\n",
    "collections = {\"sm\":\"Scherbaum Mshavanadze\",\n",
    "               \"guria\":\"Teach Yourself Gurian Songs\",\n",
    "               \"megrelia\":\"Teach Yourself Megrelian Songs\"}\n",
    "\n",
    "working_coll = collections[\"sm\"]\n",
    "working_song = \"GVM017_ChvenMshvidobaTake2_Ozurgeti_ShalvaChemo2016_20160713\"\n",
    "\n",
    "root = '/Akamai/voice/data/'\n",
    "for coll in collections.values():\n",
    "    print(\"\\n\", coll, \":\")\n",
    "    songdirs = [d for d in listdir(join(root,coll)) \\\n",
    "     if isdir(join(root, coll, d)) and re.match(\"[A-Z]+\", d) != None]\n",
    "    for sd in songdirs: \n",
    "        if working_song and sd != working_song:\n",
    "            continue\n",
    "        debug = 1        \n",
    "        # one collection has its mp3s in a different sd\n",
    "        (sd_data, files) = getFiles(coll, sd, debug)\n",
    "        \n",
    "        f = files['headset'][0]\n",
    "        data_path = join(root, coll, sd_data, f)\n",
    "        y, sr = librosa.load(data_path, sr=None)\n",
    "        print(f'  {sd}: {y.size/sr:.2f} seconds.')\n"
   ]
  },
  {
   "cell_type": "code",
   "execution_count": null,
   "metadata": {},
   "outputs": [],
   "source": [
    "%%capture --no-stdout --no-display\n",
    "%matplotlib inline\n",
    "import IPython.display as ipd\n",
    "\n",
    "# Listen to song\n",
    "\n",
    "coll = working_coll\n",
    "song = working_song\n",
    "debug = 0\n",
    "(sd, files) = getFiles(coll, song, debug)\n",
    "k = 0\n",
    "for f in files['headset']:\n",
    "    if k<2:\n",
    "        k=k+1\n",
    "        #continue\n",
    "    data_path = join(root, coll, sd, f)\n",
    "    y, sr = librosa.load(data_path, sr=None)\n",
    "    start_sample = 0*sr\n",
    "    end_sample = y.size\n",
    "    print(f)\n",
    "    ipd.display(ipd.Audio(y[start_sample:end_sample], rate=sr))\n",
    "print(\"done\")\n",
    "\n"
   ]
  },
  {
   "cell_type": "code",
   "execution_count": null,
   "metadata": {},
   "outputs": [],
   "source": []
  },
  {
   "cell_type": "code",
   "execution_count": null,
   "metadata": {},
   "outputs": [],
   "source": []
  }
 ],
 "metadata": {
  "kernelspec": {
   "display_name": "Python 3",
   "language": "python",
   "name": "python3"
  },
  "language_info": {
   "codemirror_mode": {
    "name": "ipython",
    "version": 3
   },
   "file_extension": ".py",
   "mimetype": "text/x-python",
   "name": "python",
   "nbconvert_exporter": "python",
   "pygments_lexer": "ipython3",
   "version": "3.7.6"
  }
 },
 "nbformat": 4,
 "nbformat_minor": 4
}
