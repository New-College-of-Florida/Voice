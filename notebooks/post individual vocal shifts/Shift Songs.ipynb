{
 "cells": [
  {
   "cell_type": "markdown",
   "metadata": {},
   "source": [
    "### Shifts the timestamps in different types of files, according to hand-coded shift amounts\n",
    "\n",
    "This notebook uses the hand-coded shift amounts in `.../<song-directory>/shifts.txt`. Each voice part has a list of shift amounts for different parts of the song.\n",
    "\n",
    "This notebook optionally applies shifts to files that contain pitch estimates, pitch overrides, and/or the MAD statistic."
   ]
  },
  {
   "cell_type": "code",
   "execution_count": null,
   "metadata": {},
   "outputs": [],
   "source": [
    "import os\n",
    "import numpy as np\n",
    "from scipy import interpolate\n",
    "import matplotlib.pyplot as plt\n",
    "from scipy import optimize"
   ]
  },
  {
   "cell_type": "code",
   "execution_count": null,
   "metadata": {},
   "outputs": [],
   "source": [
    "data_dir = '/Akamai/voice/data/ground-estimate/'\n",
    "data2_dir = '/Akamai/voice/data/pitches-crepe-assisted/'\n",
    "data2a_dir = '/Akamai/voice/data/pitches-vuv-crepe-assisted/'\n",
    "data3_dir = '/Akamai/voice/data/pitches-postprocessed/crepe/'\n",
    "data4_dir = '/Akamai/voice/data/pitch-overrides/crepe/'\n",
    "data5_dir = '/Akamai/voice/data/ground-estimate-statistics/mad/'"
   ]
  },
  {
   "cell_type": "code",
   "execution_count": null,
   "metadata": {},
   "outputs": [],
   "source": [
    "def shift_chunk(dest, src, start, end, shift):\n",
    "    \"\"\"\n",
    "    Pastes a shifted chunk of src onto dest.\n",
    "    It will not extend dest to the left. If the shift is to the left it drops part of chunk if necessary\n",
    "    \n",
    "    start: the start index of the chunk\n",
    "    end: the end index of the chunk \n",
    "    shift: an integer number of indexes to shift right\n",
    "    \"\"\"\n",
    "    \n",
    "    chunk = np.array(src[start:end])\n",
    "    #print(\"Chunk ave/max\", np.mean(chunk), np.max(chunk))\n",
    "    #print(\"Pasting\", start, end,\"of source to\", start+shift, start+shift+chunk.size, \"of end.\")\n",
    "    if start + shift < 0:\n",
    "        chunk = chunk[- shift - start:]\n",
    "        shift = -start\n",
    "    \n",
    "    #print(start, end, shift)\n",
    "        \n",
    "    destchunk = np.maximum(dest[start+shift:start+shift+chunk.size], chunk)\n",
    "    #print(\"Destchunk ave/max\", np.mean(destchunk), np.max(destchunk))\n",
    "    dest[start+shift:start+shift+destchunk.size] = destchunk[:]\n",
    "        \n",
    "def shift_array(src, shifts):\n",
    "    \"\"\"Shifts different chunks of an array by different amounts.\n",
    "       A shift to the left by x causes the first x samples to be dropped\n",
    "       A shift to the right by x pads on the left with x 0's so that\n",
    "       the output is x samples longer than the input \n",
    "       \n",
    "       shifts: tuples (startx, endx, shift) where\n",
    "        - startx is a float, starting time in seconds\n",
    "        - endx is a float, ending time in seconds (exclusive)\n",
    "        - shift is a float, shift amount (to the right) in seconds\n",
    "    \"\"\"\n",
    "    dest = np.zeros(src.size)\n",
    "    for start, end, shift in shifts:\n",
    "        start, end, shift = round(100*start), round(100*end), round(100*shift)\n",
    "        if end > src.size:\n",
    "            end = src.size\n",
    "        if dest.size < end + shift:\n",
    "            dest = np.r_[dest, np.zeros(end + shift - dest.size)]\n",
    "        shift_chunk(dest, src, start, end, shift)\n",
    "        #print(\"dest ave on range\", np.mean(dest[max(0,start+shift):end+shift]))\n",
    "    return dest"
   ]
  },
  {
   "cell_type": "code",
   "execution_count": null,
   "metadata": {},
   "outputs": [],
   "source": [
    "def parse_name(song, vtype):\n",
    "    ans = None\n",
    "    if \"AHDS1M\" in vtype:\n",
    "        ans = 0\n",
    "    elif \"AHDS2M\" in vtype:\n",
    "        ans = 1\n",
    "    elif \"AHDS3M\" in vtype:\n",
    "        ans = 2\n",
    "    \n",
    "    if \"GVM009\" in song and ans is not None:\n",
    "        return 2 - ans\n",
    "    return ans"
   ]
  },
  {
   "cell_type": "code",
   "execution_count": null,
   "metadata": {},
   "outputs": [],
   "source": [
    "'''Shift the timestamps in the pitch estimate and/or statistics files\n",
    "   Calls shift_array() for each voice part, passing `shifts`, a list of different shift amounts for different chunks\n",
    "'''\n",
    "def shift_songs(data_dir, shift_dir, collection, findtext, match=None):\n",
    "    for song in os.listdir(os.path.join(data_dir, collection)):        \n",
    "        if song != working_song and working_song != \"\": continue\n",
    "        if \"checkpoints\" in song: continue\n",
    "        print('\\t\\t', song)\n",
    "        shiftsong = song\n",
    "        if collection == \"Scherbaum Mshavanadze\":\n",
    "            shiftsong = song[:6]\n",
    "        with open(os.path.join(shift_dir, collection, shiftsong, \"shifts.txt\")) as shift_file:\n",
    "            for voice_type in os.listdir(os.path.join(data_dir, collection, song)):\n",
    "                if \"shifts\" in voice_type or \"shifted\" in voice_type or \"~\" in voice_type or \"#\" in voice_type: continue\n",
    "                if parse_name(song, voice_type) is None: continue\n",
    "                if match != None and (not match in voice_type): continue\n",
    "                print(voice_type)\n",
    "                    \n",
    "                shiftList = list(map(float, shift_file.readline().split(' ')))\n",
    "                it = iter(shiftList)\n",
    "                shifts = list(zip(it, it, it))\n",
    "                \n",
    "                cdata = np.loadtxt(os.path.join(data_dir, collection, song, voice_type))\n",
    "                x1, y1 = cdata[:, 0], cdata[:, 1]\n",
    "                y2 = shift_array(y1, shifts)\n",
    "                x2 = np.arange(0, y2.size, 1.0) # y2 may be longer than y1\n",
    "                outfn = os.path.join(data_dir, collection, song, voice_type[:voice_type.index(findtext)] + \"_shifted.txt\")\n",
    "                np.savetxt(outfn, np.vstack((x2, y2)).T, fmt='%.2f')\n",
    "    "
   ]
  },
  {
   "cell_type": "code",
   "execution_count": null,
   "metadata": {},
   "outputs": [],
   "source": [
    "def chunkIndex(c, shifts):\n",
    "    chunk = 0\n",
    "    for start, end, shift in shifts:\n",
    "        if start <= c[0] < end and start <= c[2] < end:\n",
    "            return chunk\n",
    "        chunk += 1\n",
    "    return None\n",
    "    \n",
    "'''Shift the timestamps in the manual override files'''\n",
    "def shift_overrides(data_dir, shift_dir, collection, findtext):\n",
    "    for song in os.listdir(os.path.join(data_dir, collection)):\n",
    "        if song != working_song and working_song != \"\": continue\n",
    "        if \".DS_Store\" in song: continue\n",
    "        print('\\t\\t', song)\n",
    "        shiftsong = song\n",
    "        if collection == \"Scherbaum Mshavanadze\":\n",
    "            shiftsong = song[:6]\n",
    "        with open(os.path.join(shift_dir, collection, shiftsong, \"shifts.txt\")) as shift_file:\n",
    "            for voice_type in os.listdir(os.path.join(data_dir, collection, song)):\n",
    "                if \"shifts\" in voice_type or \"shifted\" in voice_type or \"~\" in voice_type or \"#\" in voice_type: continue\n",
    "                if parse_name(song, voice_type) is None: continue\n",
    "                    \n",
    "                shiftList = list(map(float, shift_file.readline().split(' ')))\n",
    "                it = iter(shiftList)\n",
    "                shifts = list(zip(it, it, it))\n",
    "                \n",
    "                with open(os.path.join(data_dir, collection, song, voice_type)) as original:\n",
    "                    with open(os.path.join(data_dir, collection, song, voice_type[:voice_type.index(findtext)] + \"_shifted.txt\"), \"w\") as new_shifted:\n",
    "                        for line in original:\n",
    "                            c = list(map(float, line.strip().split(' ')))\n",
    "                            idx = chunkIndex(c, shifts)\n",
    "                            if idx == None:\n",
    "                                raise ValueError(f\"Override {c} not in chunks {s}\")\n",
    "                            c[0] += shifts[idx][2]\n",
    "                            c[2] += shifts[idx][2]\n",
    "                            new_shifted.write(\" \".join(list(map(str, c))) + '\\n')\n"
   ]
  },
  {
   "cell_type": "markdown",
   "metadata": {},
   "source": [
    "### Scherbaum Mshavanadze, Teach Yourself Gurian Songs, Teach Yourself Megrelian Songs"
   ]
  },
  {
   "cell_type": "code",
   "execution_count": null,
   "metadata": {},
   "outputs": [],
   "source": [
    "# restrict what to shift\n",
    "toshift = {\n",
    "    'ground_estimates': False,\n",
    "    'algorithms-pre-vuv':False,\n",
    "    'algorithms': False,\n",
    "    'targets': False,\n",
    "    'notes': False,\n",
    "    'mad': True, \n",
    "    'overrides': False\n",
    "}\n",
    "# collections = ['Scherbaum Mshavanadze', 'Teach Yourself Megrelian Songs', 'Teach Yourself Gurian Songs']\n",
    "collections = ['Teach Yourself Gurian Songs', 'Teach Yourself Megrelian Songs']\n",
    "algos = [ 'boersma', 'crepe', 'hermes', 'noll', 'yin']\n",
    "working_song = \"\"\n",
    "for collection in collections:\n",
    "    if toshift['ground_estimates']:\n",
    "        print(f\"Ground estimates for {collection}\")\n",
    "        shift_songs(data_dir, data_dir, collection, '.')\n",
    "    \n",
    "    if toshift['algorithms-pre-vuv']:\n",
    "        print(f\"Pre-vuv Algorithms for {collection}\")\n",
    "        for algo in os.listdir(os.path.join(data2_dir)):\n",
    "            if not algo in algos: continue\n",
    "            print(\"\\t\", algo)\n",
    "            shift_songs(data2_dir + '/' + algo, data_dir, collection, '.')\n",
    "            \n",
    "    if toshift['algorithms']:\n",
    "        print(f\"Post-vuv Algorithms for {collection}\")\n",
    "        for algo in os.listdir(os.path.join(data2_dir)):\n",
    "            if not algo in algos: continue\n",
    "            print(\"\\t\", algo)\n",
    "            shift_songs(data2a_dir + '/' + algo, data_dir, collection, '.')\n",
    "\n",
    "    if toshift['targets']:\n",
    "        print(f\"Targets for {collection}\")\n",
    "        shift_songs(data3_dir, data_dir, collection, '.txt', match='M.txt')\n",
    "        \n",
    "    if toshift['notes']:\n",
    "        print(f\"Notes for {collection}\")\n",
    "        shift_songs(data3_dir, data_dir, collection, '.txt', match='notes.txt')\n",
    "\n",
    "    if toshift['mad']:\n",
    "        print(f\"MAD for {collection}\")\n",
    "        shift_songs(data5_dir, data_dir, collection, '.txt')\n",
    "\n",
    "    if toshift['overrides']:\n",
    "        print(f\"Overrides for {collection}\")\n",
    "        shift_overrides(data4_dir, data_dir, collection, '.')\n",
    "    print('')\n"
   ]
  },
  {
   "cell_type": "markdown",
   "metadata": {},
   "source": [
    "## Sandbox"
   ]
  },
  {
   "cell_type": "code",
   "execution_count": null,
   "metadata": {},
   "outputs": [],
   "source": [
    "ndata_dir = \"/Akamai/voice/data/ground-estimate/Teach Yourself Gurian Songs/Adila-Alipasha/AHDS2M.txt\"\n",
    "cdata = np.loadtxt(ndata_dir)\n",
    "x1, y1 = cdata[:, 0], cdata[:, 1]\n",
    "x2, y2 = align(x1, y1, 65, gurian=True)\n",
    "np.savetxt(\"/Akamai/voice/data/ground-estimate/Teach Yourself Gurian Songs/Adila-Alipasha/AHDS2M_shifted.txt\", np.vstack((x2, y2)).T, fmt='%.2f')"
   ]
  },
  {
   "cell_type": "code",
   "execution_count": null,
   "metadata": {},
   "outputs": [],
   "source": [
    "data_dir = '/Akamai/voice/data/pitches-vuv-crepe-assisted/'\n",
    "for algo in os.listdir(data_dir):\n",
    "    for e in os.listdir(os.path.join(data_dir, algo, \"Teach Yourself Megrelian Songs\")):\n",
    "        if e == \"Scherbaum Mshavanadze\":\n",
    "            os.rmdir(os.path.join(data_dir, algo, \"Teach Yourself Megrelian Songs\", e))"
   ]
  },
  {
   "cell_type": "code",
   "execution_count": null,
   "metadata": {},
   "outputs": [],
   "source": [
    "y = np.array([0, 0, 0, 0, 1, 2, 3, 4, 5, 6, 0, 0, 0, 0, 0, 0, 0, 0, 0, 0])\n",
    "start = 6\n",
    "end = 10\n",
    "chunk = np.array([0, 0, 9, 10, 11, 12])\n",
    "shift = 3\n",
    "ychunk = np.maximum(y[start+shift:chunk.size+start+shift], chunk)\n",
    "\n",
    "y[start+shift:chunk.size+start+shift] = ychunk\n",
    "y\n"
   ]
  },
  {
   "cell_type": "code",
   "execution_count": null,
   "metadata": {},
   "outputs": [],
   "source": [
    "a = np.array([1, 2, 3, 4, 5, 6])\n",
    "print(a)\n",
    "print(a[0:3])"
   ]
  },
  {
   "cell_type": "code",
   "execution_count": null,
   "metadata": {},
   "outputs": [],
   "source": []
  }
 ],
 "metadata": {
  "kernelspec": {
   "display_name": "Python 3 (ipykernel)",
   "language": "python",
   "name": "python3"
  },
  "language_info": {
   "codemirror_mode": {
    "name": "ipython",
    "version": 3
   },
   "file_extension": ".py",
   "mimetype": "text/x-python",
   "name": "python",
   "nbconvert_exporter": "python",
   "pygments_lexer": "ipython3",
   "version": "3.11.5"
  }
 },
 "nbformat": 4,
 "nbformat_minor": 4
}
