{
 "cells": [
  {
   "cell_type": "code",
   "execution_count": null,
   "metadata": {},
   "outputs": [],
   "source": [
    "import os\n",
    "import numpy as np\n",
    "from scipy import interpolate\n",
    "import matplotlib.pyplot as plt\n",
    "from scipy import optimize"
   ]
  },
  {
   "cell_type": "code",
   "execution_count": null,
   "metadata": {},
   "outputs": [],
   "source": [
    "data_dir = '/Akamai/voice/data/ground-estimate/'\n",
    "data2_dir = '/Akamai/voice/data/pitches-vuv-crepe-assisted/'\n",
    "data3_dir = '/Akamai/voice/data/pitches-postprocessed/crepe/'\n",
    "data4_dir = '/Akamai/voice/data/pitch-overrides/crepe/'"
   ]
  },
  {
   "cell_type": "code",
   "execution_count": null,
   "metadata": {},
   "outputs": [],
   "source": [
    "def shift_chunk(y, ishift, graph=False, gurian=False):\n",
    "    \"\"\"\n",
    "    Shifts an array to the right by *ishift* indexes.\n",
    "    Fills with float 0's.\n",
    "    \n",
    "    shift: an integer number of indexes to shift right\n",
    "    \"\"\"\n",
    "    \n",
    "    if ishift == 0:\n",
    "        return y\n",
    "    \n",
    "    if ishift > 0:\n",
    "        return np.r_[np.zeros(ishift), y[:-ishift]]\n",
    "    else:\n",
    "        print(ishift, len(y[-ishift:]), np.zeros(-ishift))\n",
    "        return np.r_[y[-ishift:], np.zeros(-ishift)]\n",
    "        \n",
    "def shift_array(y, shifts, graph=False, gurian=False):\n",
    "    \"\"\"Shifts different chunks of an array by different amounts.\n",
    "       Fills each chunk with float 0's.\n",
    "       \n",
    "       shifts: tuples (startx, endx, shift) where\n",
    "        - startx is a float, starting time in seconds\n",
    "        - endx is a float, ending time in seconds (exclusive)\n",
    "        - shift is a float, shift amount (to the right) in seconds\n",
    "    \"\"\"\n",
    "    chunks = np.empty(0)\n",
    "    for start, end, shift in shifts:\n",
    "        y1 = shift_chunk(y[round(100*start):round(100*end)], round(100*shift))\n",
    "        chunks = np.append(chunks, y1)\n",
    "    return chunks"
   ]
  },
  {
   "cell_type": "code",
   "execution_count": null,
   "metadata": {},
   "outputs": [],
   "source": [
    "def parse_name(song, vtype):\n",
    "    ans = None\n",
    "    if \"AHDS1M\" in vtype:\n",
    "        ans = 0\n",
    "    elif \"AHDS2M\" in vtype:\n",
    "        ans = 1\n",
    "    elif \"AHDS3M\" in vtype:\n",
    "        ans = 2\n",
    "    \n",
    "    if \"GVM009\" in song and ans is not None:\n",
    "        return 2 - ans\n",
    "    return ans"
   ]
  },
  {
   "cell_type": "code",
   "execution_count": null,
   "metadata": {},
   "outputs": [],
   "source": [
    "def shift_songs(data_dir, shift_dir, collection, findtext, match=None):\n",
    "    for song in os.listdir(os.path.join(data_dir, collection)):        \n",
    "        if song != working_song and working_song != \"\": continue\n",
    "        if \"checkpoints\" in song: continue\n",
    "        print('\\t\\t', song)\n",
    "        shiftsong = song\n",
    "        if collection == \"Scherbaum Mshavanadze\":\n",
    "            shiftsong = song[:6]\n",
    "        with open(os.path.join(shift_dir, collection, shiftsong, \"shifts.txt\")) as shift_file:\n",
    "            for voice_type in os.listdir(os.path.join(data_dir, collection, song)):\n",
    "                if \"shifts\" in voice_type or \"shifted\" in voice_type or \"~\" in voice_type or \"#\" in voice_type: continue\n",
    "                if parse_name(song, voice_type) is None: continue\n",
    "                if match != None and (not match in voice_type): continue\n",
    "                print(voice_type)\n",
    "                    \n",
    "                shiftList = list(map(float, shift_file.readline().split(' ')))\n",
    "                it = iter(shiftList)\n",
    "                shifts = list(zip(it, it, it))\n",
    "                \n",
    "                cdata = np.loadtxt(os.path.join(data_dir, collection, song, voice_type))\n",
    "                x1, y1 = cdata[:, 0], cdata[:, 1]\n",
    "                y2 = shift_array(y1, shifts)\n",
    "                outfn = os.path.join(data_dir, collection, song, voice_type[:voice_type.index(findtext)] + \"_shifted.txt\")\n",
    "                np.savetxt(outfn, np.vstack((x1, y2)).T, fmt='%.2f')\n",
    "    "
   ]
  },
  {
   "cell_type": "code",
   "execution_count": null,
   "metadata": {},
   "outputs": [],
   "source": [
    "def chunkIndex(c, shifts):\n",
    "    chunk = 0\n",
    "    for start, end, shift in shifts:\n",
    "        if start <= c[0] < end and start <= c[2] < end:\n",
    "            return chunk\n",
    "        chunk += 1\n",
    "    return None\n",
    "\n",
    "def shift_overrides(data_dir, shift_dir, collection, findtext):\n",
    "    for song in os.listdir(os.path.join(data_dir, collection)):\n",
    "        if song != working_song and working_song != \"\": continue\n",
    "        if \".DS_Store\" in song: continue\n",
    "        print('\\t\\t', song)\n",
    "        shiftsong = song\n",
    "        if collection == \"Scherbaum Mshavanadze\":\n",
    "            shiftsong = song[:6]\n",
    "        with open(os.path.join(shift_dir, collection, shiftsong, \"shifts.txt\")) as shift_file:\n",
    "            for voice_type in os.listdir(os.path.join(data_dir, collection, song)):\n",
    "                if \"shifts\" in voice_type or \"shifted\" in voice_type or \"~\" in voice_type or \"#\" in voice_type: continue\n",
    "                if parse_name(song, voice_type) is None: continue\n",
    "                    \n",
    "                shiftList = list(map(float, shift_file.readline().split(' ')))\n",
    "                it = iter(shiftList)\n",
    "                shifts = list(zip(it, it, it))\n",
    "                \n",
    "                with open(os.path.join(data_dir, collection, song, voice_type)) as original:\n",
    "                    with open(os.path.join(data_dir, collection, song, voice_type[:voice_type.index(findtext)] + \"_shifted.txt\"), \"w\") as new_shifted:\n",
    "                        for line in original:\n",
    "                            c = list(map(float, line.strip().split(' ')))\n",
    "                            idx = chunkIndex(c, shifts)\n",
    "                            if idx == None:\n",
    "                                raise ValueError(f\"Override {c} not in chunks {s}\")\n",
    "                            c[0] += shifts[idx][2]\n",
    "                            c[2] += shifts[idx][2]\n",
    "                            new_shifted.write(\" \".join(list(map(str, c))) + '\\n')\n"
   ]
  },
  {
   "cell_type": "markdown",
   "metadata": {},
   "source": [
    "### Scherbaum Mshavanadze, Teach Yourself Gurian Songs, Teach Yourself Megrelian Songs"
   ]
  },
  {
   "cell_type": "code",
   "execution_count": null,
   "metadata": {
    "scrolled": false
   },
   "outputs": [],
   "source": [
    "collections = ['Scherbaum Mshavanadze', 'Teach Yourself Megrelian Songs', 'Teach Yourself Gurian Songs']\n",
    "algos = ['boersma', 'crepe', 'hermes', 'noll', 'yin']\n",
    "working_song = \"Adila-Alipasha\"\n",
    "for collection in collections:\n",
    "    print(f\"Ground estimates for {collection}\")\n",
    "    shift_songs(data_dir, data_dir, collection, '.')\n",
    "    \n",
    "    print(f\"Algorithms for {collection}\")\n",
    "    for algo in os.listdir(os.path.join(data2_dir)):\n",
    "        if not algo in algos: continue\n",
    "        print(\"\\t\", algo)\n",
    "        shift_songs(data2_dir + '/' + algo, data_dir, collection, '.')\n",
    "\n",
    "    print(f\"Targets for {collection}\")\n",
    "    shift_songs(data3_dir, data_dir, collection, '.txt', match='M.txt')\n",
    "    print(f\"Notes for {collection}\")\n",
    "    shift_songs(data3_dir, data_dir, collection, '.txt', match='notes.txt')\n",
    "\n",
    "    print(f\"Overrides for {collection}\")\n",
    "    shift_overrides(data4_dir, data_dir, collection, '.')\n",
    "    print('')\n"
   ]
  },
  {
   "cell_type": "markdown",
   "metadata": {},
   "source": [
    "## Sandbox"
   ]
  },
  {
   "cell_type": "code",
   "execution_count": null,
   "metadata": {},
   "outputs": [],
   "source": [
    "ndata_dir = \"/Akamai/voice/data/ground-estimate/Teach Yourself Gurian Songs/Adila-Alipasha/AHDS2M.txt\"\n",
    "cdata = np.loadtxt(ndata_dir)\n",
    "x1, y1 = cdata[:, 0], cdata[:, 1]\n",
    "x2, y2 = align(x1, y1, 65, gurian=True)\n",
    "np.savetxt(\"/Akamai/voice/data/ground-estimate/Teach Yourself Gurian Songs/Adila-Alipasha/AHDS2M_shifted.txt\", np.vstack((x2, y2)).T, fmt='%.2f')"
   ]
  },
  {
   "cell_type": "code",
   "execution_count": null,
   "metadata": {},
   "outputs": [],
   "source": [
    "data_dir = '/Akamai/voice/data/pitches-vuv-crepe-assisted/'\n",
    "for algo in os.listdir(data_dir):\n",
    "    for e in os.listdir(os.path.join(data_dir, algo, \"Teach Yourself Megrelian Songs\")):\n",
    "        if e == \"Scherbaum Mshavanadze\":\n",
    "            os.rmdir(os.path.join(data_dir, algo, \"Teach Yourself Megrelian Songs\", e))"
   ]
  },
  {
   "cell_type": "code",
   "execution_count": null,
   "metadata": {},
   "outputs": [],
   "source": [
    "y = np.array((0.0,1.0,2.0,3.0,4.0,5.0,6.0,7.0))\n",
    "alignChunk(y, -4)"
   ]
  },
  {
   "cell_type": "code",
   "execution_count": null,
   "metadata": {},
   "outputs": [],
   "source": [
    "c = np.empty(0)\n",
    "d = np.array((1,2,3,4))\n",
    "np.append(c, d)"
   ]
  },
  {
   "cell_type": "code",
   "execution_count": null,
   "metadata": {},
   "outputs": [],
   "source": []
  }
 ],
 "metadata": {
  "kernelspec": {
   "display_name": "Python 3",
   "language": "python",
   "name": "python3"
  },
  "language_info": {
   "codemirror_mode": {
    "name": "ipython",
    "version": 3
   },
   "file_extension": ".py",
   "mimetype": "text/x-python",
   "name": "python",
   "nbconvert_exporter": "python",
   "pygments_lexer": "ipython3",
   "version": "3.7.6"
  }
 },
 "nbformat": 4,
 "nbformat_minor": 4
}
