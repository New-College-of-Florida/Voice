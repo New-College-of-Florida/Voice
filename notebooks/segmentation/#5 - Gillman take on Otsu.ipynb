{
 "cells": [
  {
   "cell_type": "markdown",
   "metadata": {},
   "source": [
    "## Notes from meeting with Prof. Gillman\n",
    "\n",
    "Otsu was a seemingly smart try, but the thresholding value that Otsu picks didn't get us the result we wanted. I learned quite a bit from the meeting with Gillman, and the following sections of the notebook will utilize that information.\n",
    "\n",
    "### On colors\n",
    "\n",
    "Starting the project, I assumed that RGB was the only way to represent colors. \"All colors\", I thought, \"are some mixture of red, blue, and green, so additive color mixing will produce any color you want.\"\n",
    "\n",
    "That's fine, but humans don't see colors that way. It turns out that in computer graphics, there are other ways to represent colors, namely HSL and HSV.\n",
    "\n",
    "HSL (hue, saturation, lightness) is very human way to approach color. Basically, you take a color, figure out how bright the color is, and then how much of the color there is.\n",
    "\n",
    "### Loupe\n",
    "\n",
    "If you take a loupe and put it against a white screen, you can see the RGB pixels. Mind blowing!\n",
    "\n",
    "### new approaches\n",
    "\n",
    "We discussed the possibility of filtering the original image in ways to change brightness and saturation to perhaps make the foreground more pronounced. If that happens before running the image through Otsu, Otsu might like it better.\n",
    "\n",
    "\n",
    "### What did I do well and what did I not do well\n",
    "\n",
    "I learned what didn't work, and I came up with ideas of what might work. The organization of my files wasn't so good, so I cleaned that up by organizing them in order of what I've tried, and in order of the evolution of the project."
   ]
  }
 ],
 "metadata": {
  "kernelspec": {
   "display_name": "Python 3",
   "language": "python",
   "name": "python3"
  },
  "language_info": {
   "codemirror_mode": {
    "name": "ipython",
    "version": 3
   },
   "file_extension": ".py",
   "mimetype": "text/x-python",
   "name": "python",
   "nbconvert_exporter": "python",
   "pygments_lexer": "ipython3",
   "version": "3.5.2"
  }
 },
 "nbformat": 4,
 "nbformat_minor": 2
}
