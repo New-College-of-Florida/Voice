{
 "cells": [
  {
   "cell_type": "markdown",
   "metadata": {},
   "source": [
    "### Multiple Fundamental Frequency Estimation by Modeling Spectral Peaks and Non-Peak Region\n",
    "\n",
    "The paper by Duan, Pardo and Zhang presents a maximum-likelihood approach to estimating multiple fundamental frequencies (F0) when there is a mixture of harmonic sources. It uses a power spectogram of a time frame and assumes that the spectral peak and non-peak regions are in fact complimentary. The peaks help find F0s that have harmonics, and the non-peak regions help avoid F0s that have harmonics.\n",
    "\n",
    "The parameters are learned from nonphonic and polyphonic training data. We are implimenting a greedy search strategy to estimate F0s one by one, to avoid the combinatorial problem of concurrent F0 estimation. It is an iterative process. It turns out that resynthesizing a harmonic sound using only peaks does little to change the human perception of the sound.\n",
    "\n",
    "### The Algorithm\n",
    "\n",
    "1). For each frame of audio\n",
    "        2. find peak frequencies and amplitudes (26)\n",
    "        3. c = a finite set of frequencies within d of peak freq\n",
    "        4. 0 = 0\n",
    "        5. For N = 1 to maxPolyphony\n",
    "            6. For each F0 in C\n",
    "                   Evaluate eq.2\n",
    "               Add to 0 the F0 that maximized eq2\n",
    "           Estimate actual polyphont N with eq.18\n",
    "           Return the first B estimates ub 0 =(F01, ..., F0n)\n",
    "      For each frame of the audio\n",
    "          Refine F0 estimates using neighboring frames"
   ]
  },
  {
   "cell_type": "code",
   "execution_count": null,
   "metadata": {},
   "outputs": [],
   "source": [
    "# ndarrays are fast because they are implimented in C using specialized linear algebra libraries.\n",
    "\n",
    "import numpy as np\n",
    "import matplotlib.pyplot as plt\n",
    "\n",
    "\n",
    "\n"
   ]
  }
 ],
 "metadata": {
  "kernelspec": {
   "display_name": "Python 3",
   "language": "python",
   "name": "python3"
  },
  "language_info": {
   "codemirror_mode": {
    "name": "ipython",
    "version": 3
   },
   "file_extension": ".py",
   "mimetype": "text/x-python",
   "name": "python",
   "nbconvert_exporter": "python",
   "pygments_lexer": "ipython3",
   "version": "3.7.6"
  }
 },
 "nbformat": 4,
 "nbformat_minor": 4
}
