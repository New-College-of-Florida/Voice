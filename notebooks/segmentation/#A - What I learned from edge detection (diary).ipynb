{
 "cells": [
  {
   "cell_type": "markdown",
   "metadata": {},
   "source": [
    "Although edge detection was promosing, and although I thought it would lead me to the promised land, it turned out to have many challenges. I didn't know about any of the challenges, so I learned a great deal.\n",
    "\n",
    "I was naive when I first tried Otsu. I thought converting the image to black and white would solve the problem. \"Trivial\", I thought. The procedure was simple:\n",
    "\n",
    "1. Convert the image to grayscale\n",
    "2. Convert the image to binary with Otsu\n",
    "3. Use edge detection to detect vertical lines\n",
    "\n",
    "Unfortunately, the Otsu rendering was a disaster. There were a couple of reasons for this. Namely, how does one determine the thresholding values? I didn't know what it meant to take thresholds at the time, but it's a non-trivial task.\n",
    "\n",
    "The main issue with this project is that it's difficult to determine what thresholding values should be, and it's difficult to determine what's noise and what is useful. If we look at the original image, there are clear vertical lines at the top. If you look at the bottom of that image, though, it's more of less continuous (with subtle changes of gradient).\n",
    "\n",
    "On the side, during research, I learned about Guass and Laplace -- they turn up a lot in image processing. Also learned about the err function, median() function in numpy, and learned a lot about color spaces, HSV, probability, and how to write in LaTex."
   ]
  },
  {
   "cell_type": "code",
   "execution_count": null,
   "metadata": {},
   "outputs": [],
   "source": []
  }
 ],
 "metadata": {
  "kernelspec": {
   "display_name": "Python 3",
   "language": "python",
   "name": "python3"
  },
  "language_info": {
   "codemirror_mode": {
    "name": "ipython",
    "version": 3
   },
   "file_extension": ".py",
   "mimetype": "text/x-python",
   "name": "python",
   "nbconvert_exporter": "python",
   "pygments_lexer": "ipython3",
   "version": "3.5.2"
  }
 },
 "nbformat": 4,
 "nbformat_minor": 2
}
