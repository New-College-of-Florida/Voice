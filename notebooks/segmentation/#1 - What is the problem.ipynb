{
 "cells": [
  {
   "cell_type": "markdown",
   "metadata": {},
   "source": [
    "# Segmenting Spectograms\n",
    "\n",
    "A spectogram is a graph of time along the x-axis, frequency along the y-axis, and the magnitude of each frequency that is represented by color.\n",
    "\n",
    "\n",
    "### The case of a single violin line\n",
    "\n",
    "This is the spectogram of a violin excerpt from [Wikipedia](https://en.wikipedia.org/wiki/Spectrogram#/media/File:Spectrogram_of_violin.png)\n",
    "![Violin extract](violin.png)\n",
    "There looks to be a fundamental pitch (most often the lowest bar on the graph, and also the most dense in color),and partials above it in integer multiples. What we care about are the vertical columns that (to humans) appear very clearly.\n",
    "\n",
    "Let's assume we only care about the bottom line:\n",
    "![Extract of fundamental line](fundamental_line.png)\n",
    "Notice that the color is intense for some interval of time, and diminishes before another frequency appears. This would be expected if the violinist were changing bows. Certainly, each distinct entity here is some note, so we should segment horriztonally to find each note.\n",
    "![Individual notes](fundamental_by_note.png)\n",
    "\n",
    "That's the goal. To segment into columns to help us find each note.\n",
    "\n",
    "\n",
    "### Segmentation\n",
    "\n",
    "OpenCV (Open Source Computer Vision) was developed by Intel to analyze\n",
    "images in real time. It has tools to segment images based on different critera,\n",
    "many of which seem useful for analysing spectograms.\n",
    "\n",
    "This notebook folder contains various methods of segmentation that can be used to analyze the above image,"
   ]
  },
  {
   "cell_type": "code",
   "execution_count": null,
   "metadata": {},
   "outputs": [],
   "source": []
  }
 ],
 "metadata": {
  "kernelspec": {
   "display_name": "Python 3",
   "language": "python",
   "name": "python3"
  },
  "language_info": {
   "codemirror_mode": {
    "name": "ipython",
    "version": 3
   },
   "file_extension": ".py",
   "mimetype": "text/x-python",
   "name": "python",
   "nbconvert_exporter": "python",
   "pygments_lexer": "ipython3",
   "version": "3.5.2"
  }
 },
 "nbformat": 4,
 "nbformat_minor": 2
}
