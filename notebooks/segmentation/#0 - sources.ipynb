{
 "cells": [
  {
   "cell_type": "markdown",
   "metadata": {},
   "source": [
    "# Annotated Bibliography\n",
    "### A Note\n",
    "\n",
    "The hyperlinks below lead to websites containing useful information for understanding image processing, segmentation, sound, and other topics related to segmenting sound files.\n",
    "\n",
    "\n",
    "#### Segmentation\n",
    "\n",
    "- [Wikipedia](https://en.wikipedia.org/wiki/Image_segmentation#Markov_random_fields)\n",
    "- [Python tutorial](https://kite.com/blog/python/image-segmentation-tutorial/)\n",
    "- [Watershed algorithm](https://opencv-python-tutroals.readthedocs.io/en/latest/py_tutorials/py_imgproc/py_watershed/py_watershed.html#watershed)\n",
    "\n",
    "\n",
    "#### Thresholding\n",
    "\n",
    "- [OpenCV](https://opencv-python-tutroals.readthedocs.io/en/latest/py_tutorials/py_imgproc/py_thresholding/py_thresholding.html)\n",
    "- [Otsu's method](https://en.wikipedia.org/wiki/Otsu%27s_method)\n",
    "- [Gaussian thresholding](https://docs.opencv.org/master/d7/d4d/tutorial_py_thresholding.html)\n",
    "\n",
    "\n",
    "#### Gradients\n",
    "\n",
    "- [OpenCV](https://opencv-python-tutroals.readthedocs.io/en/latest/py_tutorials/py_imgproc/py_gradients/py_gradients.html#gradients)\n",
    "\n",
    "#### Contours\n",
    "\n",
    "- [OpenCV tutorial](https://opencv-python-tutroals.readthedocs.io/en/latest/py_tutorials/py_imgproc/py_contours/py_table_of_contents_contours/py_table_of_contents_contours.html#table-of-content-contours)\n",
    "\n",
    "\n",
    "#### Morphological operations\n",
    "\n",
    "- [Geeks for Geeks](https://www.geeksforgeeks.org/image-segmentation-using-morphological-operation/)\n",
    "\n",
    "#### Software\n",
    "\n",
    "- [Interactive segmentation](http://web.archive.org/web/20150116223857/http://kspace.cdvp.dcu.ie/public/interactive-segmentation/docs.html)"
   ]
  }
 ],
 "metadata": {
  "kernelspec": {
   "display_name": "Python 3",
   "language": "python",
   "name": "python3"
  },
  "language_info": {
   "codemirror_mode": {
    "name": "ipython",
    "version": 3
   },
   "file_extension": ".py",
   "mimetype": "text/x-python",
   "name": "python",
   "nbconvert_exporter": "python",
   "pygments_lexer": "ipython3",
   "version": "3.5.2"
  }
 },
 "nbformat": 4,
 "nbformat_minor": 2
}
