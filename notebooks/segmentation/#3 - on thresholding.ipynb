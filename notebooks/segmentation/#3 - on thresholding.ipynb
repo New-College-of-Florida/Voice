{
 "cells": [
  {
   "cell_type": "markdown",
   "metadata": {},
   "source": [
    "# Thresholding?\n",
    "\n",
    "### What is a picture?\n",
    "\n",
    "A picture is best defined as an array (or matrix) of square pixels that are arranged in columns and rows. Each pixel is some combination (addtive color mixing) of red, blue, and green. In fact, if you put a magnifying glass to a computer screen, you can see that what looks to be 'white' is actually tiny pixels of red, blue, and green.\n",
    "\n",
    "### Thresholding\n",
    "\n",
    "Thresholding is one of the most simple ways to segment an image. Once an image is greyscaled, a useful technique might be to transform the image into black and white.\n",
    "\n",
    "A scientist would say that we could define a threshold such that if a pixel is more intense (I) (i.e. bright) than some predefined value (T), then make that pixel black; else, make the pixel white. We call the resulting image a binary image, which contains a foreground and a background.\n",
    "\n",
    "A human can certainly predefine the value (e.g. 'hardwire' it), but it would be more useful if we could somehow make the computer assign a thresholding value automatically.\n",
    "\n",
    "There are a handful of ways to do this, and the following sections will try some of them."
   ]
  }
 ],
 "metadata": {
  "kernelspec": {
   "display_name": "Python 3",
   "language": "python",
   "name": "python3"
  },
  "language_info": {
   "codemirror_mode": {
    "name": "ipython",
    "version": 3
   },
   "file_extension": ".py",
   "mimetype": "text/x-python",
   "name": "python",
   "nbconvert_exporter": "python",
   "pygments_lexer": "ipython3",
   "version": "3.5.2"
  }
 },
 "nbformat": 4,
 "nbformat_minor": 2
}
